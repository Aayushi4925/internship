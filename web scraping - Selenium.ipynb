{
 "cells": [
  {
   "cell_type": "code",
   "execution_count": 5,
   "metadata": {},
   "outputs": [],
   "source": [
    "import selenium\n",
    "import pandas as pd\n",
    "from selenium import webdriver"
   ]
  },
  {
   "cell_type": "code",
   "execution_count": 6,
   "metadata": {},
   "outputs": [],
   "source": [
    "driver = webdriver.Chrome(r\"C:\\Users\\dell\\Downloads\\chromedriver_win32\\chromedriver.exe\")"
   ]
  },
  {
   "cell_type": "code",
   "execution_count": 16,
   "metadata": {},
   "outputs": [],
   "source": [
    "from selenium.common.exceptions import NoSuchElementException"
   ]
  },
  {
   "cell_type": "code",
   "execution_count": 4,
   "metadata": {},
   "outputs": [],
   "source": [
    "import time"
   ]
  },
  {
   "cell_type": "markdown",
   "metadata": {},
   "source": [
    "# Q1: Write a python program to scrape data for “Data Analyst” Job position in “Bangalore” location. You have to scrape the job-title, job-location, company_name,experience_required. You have to scrape first 10 jobs data."
   ]
  },
  {
   "cell_type": "code",
   "execution_count": 3,
   "metadata": {},
   "outputs": [],
   "source": [
    "url = 'https://www.naukri.com/'\n",
    "driver.get(url)"
   ]
  },
  {
   "cell_type": "code",
   "execution_count": 4,
   "metadata": {},
   "outputs": [],
   "source": [
    "search_job = driver.find_element_by_id('qsb-keyword-sugg')"
   ]
  },
  {
   "cell_type": "code",
   "execution_count": 5,
   "metadata": {},
   "outputs": [],
   "source": [
    "search_job.send_keys('Data Analyst')"
   ]
  },
  {
   "cell_type": "code",
   "execution_count": 6,
   "metadata": {},
   "outputs": [],
   "source": [
    "search_loc = driver.find_element_by_id('qsb-location-sugg')\n",
    "search_loc.send_keys('Bangalore')"
   ]
  },
  {
   "cell_type": "code",
   "execution_count": 7,
   "metadata": {},
   "outputs": [],
   "source": [
    "search_button = driver.find_element_by_xpath('//button[@class=\"btn\"]')"
   ]
  },
  {
   "cell_type": "code",
   "execution_count": 8,
   "metadata": {},
   "outputs": [],
   "source": [
    "search_button.click()"
   ]
  },
  {
   "cell_type": "code",
   "execution_count": 9,
   "metadata": {},
   "outputs": [],
   "source": [
    "job_name = []\n",
    "job_location = []\n",
    "company_name = []\n",
    "experience = []"
   ]
  },
  {
   "cell_type": "code",
   "execution_count": 10,
   "metadata": {},
   "outputs": [],
   "source": [
    "for j in driver.find_elements_by_xpath('//a[@class=\"title fw500 ellipsis\"]')[:10]:\n",
    "    job_name.append(j.text.replace('/n',''))\n",
    "for k in driver.find_elements_by_xpath('//a[@class=\"subTitle ellipsis fleft\"]')[:10]:\n",
    "    company_name.append(k.text.replace('/n',''))\n",
    "for m in driver.find_elements_by_xpath('//li[@class=\"fleft grey-text br2 placeHolderLi location\"]/span')[:10]:\n",
    "    job_location.append(m.text.replace('/n',''))\n",
    "for n in driver.find_elements_by_xpath('//li[@class=\"fleft grey-text br2 placeHolderLi experience\"]//span')[:10]:\n",
    "    experience.append(n.text.replace('/n',''))\n"
   ]
  },
  {
   "cell_type": "code",
   "execution_count": 12,
   "metadata": {},
   "outputs": [],
   "source": [
    "data_analyst_df = pd.DataFrame({})\n",
    "data_analyst_df['job_name'] = job_name\n",
    "data_analyst_df['company_name'] = company_name\n",
    "data_analyst_df['job_location'] = job_location\n",
    "data_analyst_df['experience'] = experience"
   ]
  },
  {
   "cell_type": "code",
   "execution_count": 13,
   "metadata": {},
   "outputs": [
    {
     "data": {
      "text/html": [
       "<div>\n",
       "<style scoped>\n",
       "    .dataframe tbody tr th:only-of-type {\n",
       "        vertical-align: middle;\n",
       "    }\n",
       "\n",
       "    .dataframe tbody tr th {\n",
       "        vertical-align: top;\n",
       "    }\n",
       "\n",
       "    .dataframe thead th {\n",
       "        text-align: right;\n",
       "    }\n",
       "</style>\n",
       "<table border=\"1\" class=\"dataframe\">\n",
       "  <thead>\n",
       "    <tr style=\"text-align: right;\">\n",
       "      <th></th>\n",
       "      <th>job_name</th>\n",
       "      <th>company_name</th>\n",
       "      <th>job_location</th>\n",
       "      <th>experience</th>\n",
       "    </tr>\n",
       "  </thead>\n",
       "  <tbody>\n",
       "    <tr>\n",
       "      <th>0</th>\n",
       "      <td>Data Scientist / Data Analyst -Business Analyst</td>\n",
       "      <td>Inflexion Analytix Private Limited</td>\n",
       "      <td>Mumbai, Hyderabad/Secunderabad, Pune, Gurgaon/...</td>\n",
       "      <td>0-3 Yrs</td>\n",
       "    </tr>\n",
       "    <tr>\n",
       "      <th>1</th>\n",
       "      <td>Hiring Data Analysts For E commerce Platform |...</td>\n",
       "      <td>Allegis Services India Pvt. Ltd.</td>\n",
       "      <td>Bangalore/Bengaluru</td>\n",
       "      <td>0-5 Yrs</td>\n",
       "    </tr>\n",
       "    <tr>\n",
       "      <th>2</th>\n",
       "      <td>Data Analyst</td>\n",
       "      <td>Applied Materials</td>\n",
       "      <td>Bangalore/Bengaluru</td>\n",
       "      <td>7-10 Yrs</td>\n",
       "    </tr>\n",
       "    <tr>\n",
       "      <th>3</th>\n",
       "      <td>Hiring For Data Analyst/ MIS Reporting Analyst...</td>\n",
       "      <td>PHARMACEUTICAL RESEARCH ASSOCIATES INDIA Pvt Ltd</td>\n",
       "      <td>Bangalore/Bengaluru</td>\n",
       "      <td>2-4 Yrs</td>\n",
       "    </tr>\n",
       "    <tr>\n",
       "      <th>4</th>\n",
       "      <td>DA - Urgent Opening For Data Analyst BFSI Doma...</td>\n",
       "      <td>Tata Consultancy Services Ltd.</td>\n",
       "      <td>Kolkata, Hyderabad/Secunderabad, Pune, Ahmedab...</td>\n",
       "      <td>4-9 Yrs</td>\n",
       "    </tr>\n",
       "    <tr>\n",
       "      <th>5</th>\n",
       "      <td>Data Analyst - Informatica MDM</td>\n",
       "      <td>Shell India Markets Private Limited</td>\n",
       "      <td>Bangalore/Bengaluru</td>\n",
       "      <td>6-9 Yrs</td>\n",
       "    </tr>\n",
       "    <tr>\n",
       "      <th>6</th>\n",
       "      <td>Assistant Vice President - MIS &amp; Reporting ( B...</td>\n",
       "      <td>INTERTRUSTVITEOS CORPORATE AND FUND SERVICES P...</td>\n",
       "      <td>Mumbai, Bangalore/Bengaluru</td>\n",
       "      <td>12-18 Yrs</td>\n",
       "    </tr>\n",
       "    <tr>\n",
       "      <th>7</th>\n",
       "      <td>Data Analyst</td>\n",
       "      <td>Myntra Designs Pvt. Ltd.</td>\n",
       "      <td>Bangalore/Bengaluru</td>\n",
       "      <td>3-6 Yrs</td>\n",
       "    </tr>\n",
       "    <tr>\n",
       "      <th>8</th>\n",
       "      <td>Data Analyst</td>\n",
       "      <td>Myntra Designs Pvt. Ltd.</td>\n",
       "      <td>Bangalore/Bengaluru</td>\n",
       "      <td>3-6 Yrs</td>\n",
       "    </tr>\n",
       "    <tr>\n",
       "      <th>9</th>\n",
       "      <td>Data Analyst</td>\n",
       "      <td>Myntra Designs Pvt. Ltd.</td>\n",
       "      <td>Bangalore/Bengaluru</td>\n",
       "      <td>4-9 Yrs</td>\n",
       "    </tr>\n",
       "  </tbody>\n",
       "</table>\n",
       "</div>"
      ],
      "text/plain": [
       "                                            job_name  \\\n",
       "0    Data Scientist / Data Analyst -Business Analyst   \n",
       "1  Hiring Data Analysts For E commerce Platform |...   \n",
       "2                                       Data Analyst   \n",
       "3  Hiring For Data Analyst/ MIS Reporting Analyst...   \n",
       "4  DA - Urgent Opening For Data Analyst BFSI Doma...   \n",
       "5                     Data Analyst - Informatica MDM   \n",
       "6  Assistant Vice President - MIS & Reporting ( B...   \n",
       "7                                       Data Analyst   \n",
       "8                                       Data Analyst   \n",
       "9                                       Data Analyst   \n",
       "\n",
       "                                        company_name  \\\n",
       "0                 Inflexion Analytix Private Limited   \n",
       "1                   Allegis Services India Pvt. Ltd.   \n",
       "2                                  Applied Materials   \n",
       "3   PHARMACEUTICAL RESEARCH ASSOCIATES INDIA Pvt Ltd   \n",
       "4                     Tata Consultancy Services Ltd.   \n",
       "5                Shell India Markets Private Limited   \n",
       "6  INTERTRUSTVITEOS CORPORATE AND FUND SERVICES P...   \n",
       "7                           Myntra Designs Pvt. Ltd.   \n",
       "8                           Myntra Designs Pvt. Ltd.   \n",
       "9                           Myntra Designs Pvt. Ltd.   \n",
       "\n",
       "                                        job_location experience  \n",
       "0  Mumbai, Hyderabad/Secunderabad, Pune, Gurgaon/...    0-3 Yrs  \n",
       "1                                Bangalore/Bengaluru    0-5 Yrs  \n",
       "2                                Bangalore/Bengaluru   7-10 Yrs  \n",
       "3                                Bangalore/Bengaluru    2-4 Yrs  \n",
       "4  Kolkata, Hyderabad/Secunderabad, Pune, Ahmedab...    4-9 Yrs  \n",
       "5                                Bangalore/Bengaluru    6-9 Yrs  \n",
       "6                        Mumbai, Bangalore/Bengaluru  12-18 Yrs  \n",
       "7                                Bangalore/Bengaluru    3-6 Yrs  \n",
       "8                                Bangalore/Bengaluru    3-6 Yrs  \n",
       "9                                Bangalore/Bengaluru    4-9 Yrs  "
      ]
     },
     "execution_count": 13,
     "metadata": {},
     "output_type": "execute_result"
    }
   ],
   "source": [
    "data_analyst_df "
   ]
  },
  {
   "cell_type": "markdown",
   "metadata": {},
   "source": [
    "# Q2: Write a python program to scrape data for “Data Scientist” Job position in “Bangalore” location. You have to scrape the job-title, job-location,company_name, full job-description. You have to scrape first 10 jobs data."
   ]
  },
  {
   "cell_type": "code",
   "execution_count": 7,
   "metadata": {},
   "outputs": [],
   "source": [
    "url = 'https://www.naukri.com/'\n",
    "driver.get(url)"
   ]
  },
  {
   "cell_type": "code",
   "execution_count": 8,
   "metadata": {},
   "outputs": [],
   "source": [
    "search_job = driver.find_element_by_id('qsb-keyword-sugg')\n",
    "search_job.send_keys('Data Scientist')\n"
   ]
  },
  {
   "cell_type": "code",
   "execution_count": 9,
   "metadata": {},
   "outputs": [],
   "source": [
    "search_loc = driver.find_element_by_id('qsb-location-sugg')\n",
    "search_loc.send_keys('Bangalore')\n",
    "search_button = driver.find_element_by_xpath('//button[@class=\"btn\"]')\n",
    "search_button.click()"
   ]
  },
  {
   "cell_type": "code",
   "execution_count": 12,
   "metadata": {},
   "outputs": [],
   "source": [
    "job_location = []\n",
    "company_name = []\n",
    "title = []\n",
    "for j in driver.find_elements_by_xpath('//a[@class=\"title fw500 ellipsis\"]')[:10]:\n",
    "    title.append(j.text.replace('/n',''))\n",
    "for k in driver.find_elements_by_xpath('//a[@class=\"subTitle ellipsis fleft\"]')[:10]:\n",
    "    company_name.append(k.text.replace('/n',''))\n",
    "for m in driver.find_elements_by_xpath('//li[@class=\"fleft grey-text br2 placeHolderLi location\"]/span')[:10]:\n",
    "    job_location.append(m.text.replace('/n',''))"
   ]
  },
  {
   "cell_type": "code",
   "execution_count": 14,
   "metadata": {},
   "outputs": [
    {
     "data": {
      "text/plain": [
       "['Inflexion Analytix Private Limited',\n",
       " 'Intel Technology India Pvt Ltd',\n",
       " 'Nielsen',\n",
       " 'Xoriant Solutions Pvt Ltd',\n",
       " 'Philips India Limited',\n",
       " 'IBM India Pvt. Limited',\n",
       " 'Oracle India Pvt. Ltd.',\n",
       " 'Huawei Technologies India Pvt Ltd',\n",
       " 'Huawei Technologies India Pvt Ltd',\n",
       " 'GlobalEdx Learning and Technology Solution Pvt Ltd']"
      ]
     },
     "execution_count": 14,
     "metadata": {},
     "output_type": "execute_result"
    }
   ],
   "source": []
  },
  {
   "cell_type": "code",
   "execution_count": 15,
   "metadata": {},
   "outputs": [],
   "source": [
    "url= []\n",
    "for j in driver.find_elements_by_xpath('//a[@class=\"title fw500 ellipsis\"]')[:10]:\n",
    "    url.append(j.get_attribute('href'))"
   ]
  },
  {
   "cell_type": "code",
   "execution_count": 17,
   "metadata": {},
   "outputs": [],
   "source": [
    "description = []"
   ]
  },
  {
   "cell_type": "code",
   "execution_count": 20,
   "metadata": {},
   "outputs": [],
   "source": [
    "for i in url:\n",
    "    driver.get(i)\n",
    "    try:\n",
    "        desc = driver.find_element_by_xpath('//section[@class=\"job-desc\"]')\n",
    "        description.append(desc.text)\n",
    "    except NoSuchElementException:\n",
    "        description.append('?')"
   ]
  },
  {
   "cell_type": "code",
   "execution_count": 22,
   "metadata": {},
   "outputs": [
    {
     "data": {
      "text/plain": [
       "10"
      ]
     },
     "execution_count": 22,
     "metadata": {},
     "output_type": "execute_result"
    }
   ],
   "source": [
    "len(description)"
   ]
  },
  {
   "cell_type": "code",
   "execution_count": 23,
   "metadata": {},
   "outputs": [
    {
     "data": {
      "text/html": [
       "<div>\n",
       "<style scoped>\n",
       "    .dataframe tbody tr th:only-of-type {\n",
       "        vertical-align: middle;\n",
       "    }\n",
       "\n",
       "    .dataframe tbody tr th {\n",
       "        vertical-align: top;\n",
       "    }\n",
       "\n",
       "    .dataframe thead th {\n",
       "        text-align: right;\n",
       "    }\n",
       "</style>\n",
       "<table border=\"1\" class=\"dataframe\">\n",
       "  <thead>\n",
       "    <tr style=\"text-align: right;\">\n",
       "      <th></th>\n",
       "      <th>job title</th>\n",
       "      <th>location</th>\n",
       "      <th>company_name</th>\n",
       "      <th>job description</th>\n",
       "    </tr>\n",
       "  </thead>\n",
       "  <tbody>\n",
       "    <tr>\n",
       "      <th>0</th>\n",
       "      <td>Data Scientist / Data Analyst -Business Analyst</td>\n",
       "      <td>Mumbai, Hyderabad/Secunderabad, Pune, Gurgaon/...</td>\n",
       "      <td>Inflexion Analytix Private Limited</td>\n",
       "      <td>Job description\\nJob Role : Data Scientist/Dat...</td>\n",
       "    </tr>\n",
       "    <tr>\n",
       "      <th>1</th>\n",
       "      <td>Lead Data Scientist</td>\n",
       "      <td>Bangalore/Bengaluru</td>\n",
       "      <td>Intel Technology India Pvt Ltd</td>\n",
       "      <td>Job description\\n\\n\\nWe are seeking an outstan...</td>\n",
       "    </tr>\n",
       "    <tr>\n",
       "      <th>2</th>\n",
       "      <td>Senior Data Scientist, Modeling</td>\n",
       "      <td>Kolkata, Gurgaon/Gurugram, Bangalore/Bengaluru...</td>\n",
       "      <td>Nielsen</td>\n",
       "      <td>Job description\\nWe wont say we can predict th...</td>\n",
       "    </tr>\n",
       "    <tr>\n",
       "      <th>3</th>\n",
       "      <td>Big Data - Data Scientist</td>\n",
       "      <td>Kochi/Cochin, Indore, Hyderabad/Secunderabad, ...</td>\n",
       "      <td>Xoriant Solutions Pvt Ltd</td>\n",
       "      <td>?</td>\n",
       "    </tr>\n",
       "    <tr>\n",
       "      <th>4</th>\n",
       "      <td>Specialist I - Data Scientist</td>\n",
       "      <td>Bangalore/Bengaluru</td>\n",
       "      <td>Philips India Limited</td>\n",
       "      <td>Job description\\nResponsibilities and Key Resu...</td>\n",
       "    </tr>\n",
       "    <tr>\n",
       "      <th>5</th>\n",
       "      <td>Data Scientist</td>\n",
       "      <td>Bangalore/Bengaluru</td>\n",
       "      <td>IBM India Pvt. Limited</td>\n",
       "      <td>?</td>\n",
       "    </tr>\n",
       "    <tr>\n",
       "      <th>6</th>\n",
       "      <td>Data Scientist</td>\n",
       "      <td>Bangalore/Bengaluru</td>\n",
       "      <td>Oracle India Pvt. Ltd.</td>\n",
       "      <td>?</td>\n",
       "    </tr>\n",
       "    <tr>\n",
       "      <th>7</th>\n",
       "      <td>SDE Lead Data Scientist-L3</td>\n",
       "      <td>Bangalore/Bengaluru</td>\n",
       "      <td>Huawei Technologies India Pvt Ltd</td>\n",
       "      <td>Job description\\nBusiness &amp; Team overview:\\nFo...</td>\n",
       "    </tr>\n",
       "    <tr>\n",
       "      <th>8</th>\n",
       "      <td>Computational Design Lead Data Scientist-L3</td>\n",
       "      <td>Bangalore/Bengaluru</td>\n",
       "      <td>Huawei Technologies India Pvt Ltd</td>\n",
       "      <td>Job description\\nBusiness &amp; Team overview:\\nFo...</td>\n",
       "    </tr>\n",
       "    <tr>\n",
       "      <th>9</th>\n",
       "      <td>Hiring For DATA Scientist - ON Contract Basis ...</td>\n",
       "      <td>Hyderabad/Secunderabad, Bangalore/Bengaluru, M...</td>\n",
       "      <td>GlobalEdx Learning and Technology Solution Pvt...</td>\n",
       "      <td>Job description\\nDear Aspirant,\\n\\nGreetings f...</td>\n",
       "    </tr>\n",
       "  </tbody>\n",
       "</table>\n",
       "</div>"
      ],
      "text/plain": [
       "                                           job title  \\\n",
       "0    Data Scientist / Data Analyst -Business Analyst   \n",
       "1                                Lead Data Scientist   \n",
       "2                    Senior Data Scientist, Modeling   \n",
       "3                          Big Data - Data Scientist   \n",
       "4                      Specialist I - Data Scientist   \n",
       "5                                     Data Scientist   \n",
       "6                                     Data Scientist   \n",
       "7                         SDE Lead Data Scientist-L3   \n",
       "8        Computational Design Lead Data Scientist-L3   \n",
       "9  Hiring For DATA Scientist - ON Contract Basis ...   \n",
       "\n",
       "                                            location  \\\n",
       "0  Mumbai, Hyderabad/Secunderabad, Pune, Gurgaon/...   \n",
       "1                                Bangalore/Bengaluru   \n",
       "2  Kolkata, Gurgaon/Gurugram, Bangalore/Bengaluru...   \n",
       "3  Kochi/Cochin, Indore, Hyderabad/Secunderabad, ...   \n",
       "4                                Bangalore/Bengaluru   \n",
       "5                                Bangalore/Bengaluru   \n",
       "6                                Bangalore/Bengaluru   \n",
       "7                                Bangalore/Bengaluru   \n",
       "8                                Bangalore/Bengaluru   \n",
       "9  Hyderabad/Secunderabad, Bangalore/Bengaluru, M...   \n",
       "\n",
       "                                        company_name  \\\n",
       "0                 Inflexion Analytix Private Limited   \n",
       "1                     Intel Technology India Pvt Ltd   \n",
       "2                                            Nielsen   \n",
       "3                          Xoriant Solutions Pvt Ltd   \n",
       "4                              Philips India Limited   \n",
       "5                             IBM India Pvt. Limited   \n",
       "6                             Oracle India Pvt. Ltd.   \n",
       "7                  Huawei Technologies India Pvt Ltd   \n",
       "8                  Huawei Technologies India Pvt Ltd   \n",
       "9  GlobalEdx Learning and Technology Solution Pvt...   \n",
       "\n",
       "                                     job description  \n",
       "0  Job description\\nJob Role : Data Scientist/Dat...  \n",
       "1  Job description\\n\\n\\nWe are seeking an outstan...  \n",
       "2  Job description\\nWe wont say we can predict th...  \n",
       "3                                                  ?  \n",
       "4  Job description\\nResponsibilities and Key Resu...  \n",
       "5                                                  ?  \n",
       "6                                                  ?  \n",
       "7  Job description\\nBusiness & Team overview:\\nFo...  \n",
       "8  Job description\\nBusiness & Team overview:\\nFo...  \n",
       "9  Job description\\nDear Aspirant,\\n\\nGreetings f...  "
      ]
     },
     "execution_count": 23,
     "metadata": {},
     "output_type": "execute_result"
    }
   ],
   "source": [
    "job_df = pd.DataFrame({})\n",
    "job_df['job title'] = title\n",
    "job_df['location'] = job_location\n",
    "job_df['company_name'] = company_name\n",
    "job_df['job description']  = description\n",
    "job_df"
   ]
  },
  {
   "cell_type": "markdown",
   "metadata": {},
   "source": [
    "# Q3 You have to use the location and salary filter.You have to scrape data for “Data Scientist” designation for first 10 job resultsYou have to scrape the job-title, job-location, company_name,experience_required."
   ]
  },
  {
   "cell_type": "code",
   "execution_count": 3,
   "metadata": {},
   "outputs": [],
   "source": [
    "url = 'https://www.naukri.com/'\n",
    "driver.get(url)"
   ]
  },
  {
   "cell_type": "code",
   "execution_count": 4,
   "metadata": {},
   "outputs": [],
   "source": [
    "search_job = driver.find_element_by_id('qsb-keyword-sugg')\n",
    "search_job.send_keys('Data Scientist')"
   ]
  },
  {
   "cell_type": "code",
   "execution_count": 5,
   "metadata": {},
   "outputs": [],
   "source": [
    "search_button = driver.find_element_by_xpath('//button[@class=\"btn\"]')\n",
    "search_button.click()"
   ]
  },
  {
   "cell_type": "code",
   "execution_count": 20,
   "metadata": {},
   "outputs": [],
   "source": [
    "l = driver.find_element_by_xpath(\"//div[@class='mt-8 chckBoxCont'][3]\") #using indexing to filter location"
   ]
  },
  {
   "cell_type": "code",
   "execution_count": 22,
   "metadata": {},
   "outputs": [],
   "source": [
    "l.click()"
   ]
  },
  {
   "cell_type": "code",
   "execution_count": 31,
   "metadata": {},
   "outputs": [],
   "source": [
    "sal = driver.find_element_by_xpath(\"//p[@class='grey-text lH20 fleft ml-8 txtLbl'][6]\") #indexing to filter the salary range\n"
   ]
  },
  {
   "cell_type": "code",
   "execution_count": 32,
   "metadata": {},
   "outputs": [],
   "source": [
    "sal.click()"
   ]
  },
  {
   "cell_type": "code",
   "execution_count": 33,
   "metadata": {},
   "outputs": [],
   "source": [
    "job_name = []\n",
    "job_location = []\n",
    "company_name = []\n",
    "experience = []"
   ]
  },
  {
   "cell_type": "code",
   "execution_count": 34,
   "metadata": {},
   "outputs": [],
   "source": [
    "for j in driver.find_elements_by_xpath('//a[@class=\"title fw500 ellipsis\"]')[:10]:\n",
    "    job_name.append(j.text.replace('/n',''))\n",
    "for k in driver.find_elements_by_xpath('//a[@class=\"subTitle ellipsis fleft\"]')[:10]:\n",
    "    company_name.append(k.text.replace('/n',''))\n",
    "for m in driver.find_elements_by_xpath('//li[@class=\"fleft grey-text br2 placeHolderLi location\"]/span')[:10]:\n",
    "    job_location.append(m.text.replace('/n',''))\n",
    "for n in driver.find_elements_by_xpath('//li[@class=\"fleft grey-text br2 placeHolderLi experience\"]//span')[:10]:\n",
    "    experience.append(n.text.replace('/n',''))"
   ]
  },
  {
   "cell_type": "code",
   "execution_count": 35,
   "metadata": {},
   "outputs": [],
   "source": [
    "df = pd.DataFrame({})\n",
    "df['job_name'] = job_name\n",
    "df['company_name'] = company_name\n",
    "df['job_location'] = job_location\n",
    "df['experience'] = experience"
   ]
  },
  {
   "cell_type": "code",
   "execution_count": 36,
   "metadata": {},
   "outputs": [
    {
     "data": {
      "text/html": [
       "<div>\n",
       "<style scoped>\n",
       "    .dataframe tbody tr th:only-of-type {\n",
       "        vertical-align: middle;\n",
       "    }\n",
       "\n",
       "    .dataframe tbody tr th {\n",
       "        vertical-align: top;\n",
       "    }\n",
       "\n",
       "    .dataframe thead th {\n",
       "        text-align: right;\n",
       "    }\n",
       "</style>\n",
       "<table border=\"1\" class=\"dataframe\">\n",
       "  <thead>\n",
       "    <tr style=\"text-align: right;\">\n",
       "      <th></th>\n",
       "      <th>job_name</th>\n",
       "      <th>company_name</th>\n",
       "      <th>job_location</th>\n",
       "      <th>experience</th>\n",
       "    </tr>\n",
       "  </thead>\n",
       "  <tbody>\n",
       "    <tr>\n",
       "      <th>0</th>\n",
       "      <td>Data Scientist / Data Analyst -Business Analyst</td>\n",
       "      <td>Inflexion Analytix Private Limited</td>\n",
       "      <td>Mumbai, Hyderabad/Secunderabad, Pune, Gurgaon/...</td>\n",
       "      <td>0-3 Yrs</td>\n",
       "    </tr>\n",
       "    <tr>\n",
       "      <th>1</th>\n",
       "      <td>Data Scientist - High growth VC backed Influen...</td>\n",
       "      <td>Ravgins International Pvt. Ltd.</td>\n",
       "      <td>Bangalore/Bengaluru, Delhi / NCR, Mumbai (All ...</td>\n",
       "      <td>3-5 Yrs</td>\n",
       "    </tr>\n",
       "    <tr>\n",
       "      <th>2</th>\n",
       "      <td>Excellent opportunity For Data Scientist</td>\n",
       "      <td>NEC CORPORATION INDIA PRIVATE LIMITED</td>\n",
       "      <td>Noida, Bangalore/Bengaluru</td>\n",
       "      <td>3-7 Yrs</td>\n",
       "    </tr>\n",
       "    <tr>\n",
       "      <th>3</th>\n",
       "      <td>Data Scientist</td>\n",
       "      <td>Mobikwik</td>\n",
       "      <td>New Delhi, Gurgaon/Gurugram, Delhi / NCR</td>\n",
       "      <td>3-5 Yrs</td>\n",
       "    </tr>\n",
       "    <tr>\n",
       "      <th>4</th>\n",
       "      <td>DATA Scientist – Gurgaon (Exp 3-6 years)</td>\n",
       "      <td>CRESCENDO GLOBAL LEADERSHIP HIRING INDIA PRIVA...</td>\n",
       "      <td>Gurgaon/Gurugram, Delhi / NCR</td>\n",
       "      <td>3-6 Yrs</td>\n",
       "    </tr>\n",
       "    <tr>\n",
       "      <th>5</th>\n",
       "      <td>DATA Scientist – Gurgaon (Exp 3-6 years)</td>\n",
       "      <td>CRESCENDO GLOBAL LEADERSHIP HIRING INDIA PRIVA...</td>\n",
       "      <td>Gurgaon/Gurugram, Delhi / NCR</td>\n",
       "      <td>3-6 Yrs</td>\n",
       "    </tr>\n",
       "    <tr>\n",
       "      <th>6</th>\n",
       "      <td>Data Scientist - Noida</td>\n",
       "      <td>Optum Global Solutions (India) Private Limited</td>\n",
       "      <td>Noida</td>\n",
       "      <td>3-5 Yrs</td>\n",
       "    </tr>\n",
       "    <tr>\n",
       "      <th>7</th>\n",
       "      <td>Data Scientist - Noida/ B'lore</td>\n",
       "      <td>NEC CORPORATION INDIA PRIVATE LIMITED</td>\n",
       "      <td>Noida, Bangalore/Bengaluru</td>\n",
       "      <td>3-8 Yrs</td>\n",
       "    </tr>\n",
       "    <tr>\n",
       "      <th>8</th>\n",
       "      <td>Data Scientist</td>\n",
       "      <td>IBM India Pvt. Limited</td>\n",
       "      <td>Noida, Hyderabad/Secunderabad, Bangalore/Benga...</td>\n",
       "      <td>4-9 Yrs</td>\n",
       "    </tr>\n",
       "    <tr>\n",
       "      <th>9</th>\n",
       "      <td>Data Scientist</td>\n",
       "      <td>Cloudstrats Technologies Private Limited</td>\n",
       "      <td>Bangalore/Bengaluru, Delhi / NCR, Mumbai (All ...</td>\n",
       "      <td>5-8 Yrs</td>\n",
       "    </tr>\n",
       "  </tbody>\n",
       "</table>\n",
       "</div>"
      ],
      "text/plain": [
       "                                            job_name  \\\n",
       "0    Data Scientist / Data Analyst -Business Analyst   \n",
       "1  Data Scientist - High growth VC backed Influen...   \n",
       "2           Excellent opportunity For Data Scientist   \n",
       "3                                     Data Scientist   \n",
       "4           DATA Scientist – Gurgaon (Exp 3-6 years)   \n",
       "5           DATA Scientist – Gurgaon (Exp 3-6 years)   \n",
       "6                             Data Scientist - Noida   \n",
       "7                     Data Scientist - Noida/ B'lore   \n",
       "8                                     Data Scientist   \n",
       "9                                     Data Scientist   \n",
       "\n",
       "                                        company_name  \\\n",
       "0                 Inflexion Analytix Private Limited   \n",
       "1                    Ravgins International Pvt. Ltd.   \n",
       "2              NEC CORPORATION INDIA PRIVATE LIMITED   \n",
       "3                                           Mobikwik   \n",
       "4  CRESCENDO GLOBAL LEADERSHIP HIRING INDIA PRIVA...   \n",
       "5  CRESCENDO GLOBAL LEADERSHIP HIRING INDIA PRIVA...   \n",
       "6     Optum Global Solutions (India) Private Limited   \n",
       "7              NEC CORPORATION INDIA PRIVATE LIMITED   \n",
       "8                             IBM India Pvt. Limited   \n",
       "9           Cloudstrats Technologies Private Limited   \n",
       "\n",
       "                                        job_location experience  \n",
       "0  Mumbai, Hyderabad/Secunderabad, Pune, Gurgaon/...    0-3 Yrs  \n",
       "1  Bangalore/Bengaluru, Delhi / NCR, Mumbai (All ...    3-5 Yrs  \n",
       "2                         Noida, Bangalore/Bengaluru    3-7 Yrs  \n",
       "3           New Delhi, Gurgaon/Gurugram, Delhi / NCR    3-5 Yrs  \n",
       "4                      Gurgaon/Gurugram, Delhi / NCR    3-6 Yrs  \n",
       "5                      Gurgaon/Gurugram, Delhi / NCR    3-6 Yrs  \n",
       "6                                              Noida    3-5 Yrs  \n",
       "7                         Noida, Bangalore/Bengaluru    3-8 Yrs  \n",
       "8  Noida, Hyderabad/Secunderabad, Bangalore/Benga...    4-9 Yrs  \n",
       "9  Bangalore/Bengaluru, Delhi / NCR, Mumbai (All ...    5-8 Yrs  "
      ]
     },
     "execution_count": 36,
     "metadata": {},
     "output_type": "execute_result"
    }
   ],
   "source": [
    "df"
   ]
  },
  {
   "cell_type": "markdown",
   "metadata": {},
   "source": [
    "# Q4 Write a python program to scrape data for first 10 job results for Data scientist Designation in Noida location. You have to scrape company_name, No. of days ago when job was posted, Rating of the company."
   ]
  },
  {
   "cell_type": "code",
   "execution_count": 35,
   "metadata": {},
   "outputs": [],
   "source": [
    "driver.get('https://www.glassdoor.co.in/Salaries/index.htm')"
   ]
  },
  {
   "cell_type": "code",
   "execution_count": 34,
   "metadata": {},
   "outputs": [],
   "source": [
    "search_job = driver.find_element_by_xpath('//input[@class=\"css-1etjok6\"]')\n",
    "search_job.send_keys('Data scientist')"
   ]
  },
  {
   "cell_type": "code",
   "execution_count": 11,
   "metadata": {},
   "outputs": [],
   "source": [
    "search_loc = driver.find_element_by_id('LocationSearch')\n",
    "location.send_keys('Noida')"
   ]
  },
  {
   "cell_type": "code",
   "execution_count": 8,
   "metadata": {},
   "outputs": [],
   "source": [
    "search_bar = driver.find_element_by_xpath('//button[@class=\"gd-ui-button ml-std col-auto SearchStyles__newSearchButton css-iixdfr\"]')"
   ]
  },
  {
   "cell_type": "code",
   "execution_count": 9,
   "metadata": {},
   "outputs": [],
   "source": [
    "search_bar.click()"
   ]
  },
  {
   "cell_type": "code",
   "execution_count": 27,
   "metadata": {},
   "outputs": [],
   "source": [
    "rating = []\n",
    "days = []\n",
    "company_name = []\n",
    "for j in driver.find_elements_by_xpath('//a[@class=\" css-l2wjgv e1n63ojh0 jobLink\"]')[:10]:\n",
    "    company_name.append(j.text.replace('/n',''))\n",
    "for j in driver.find_elements_by_xpath('//div[@class=\"d-flex align-items-end pl-std css-mi55ob\"]')[:10]:\n",
    "    days.append(j.text.replace('/n',''))\n",
    "for i in driver.find_elements_by_xpath('//span[@class=\"css-19pjha7 e1cjmv6j1\"]')[:10]:\n",
    "    rating.append(i.text.replace('/n',''))"
   ]
  },
  {
   "cell_type": "code",
   "execution_count": 32,
   "metadata": {},
   "outputs": [
    {
     "data": {
      "text/html": [
       "<div>\n",
       "<style scoped>\n",
       "    .dataframe tbody tr th:only-of-type {\n",
       "        vertical-align: middle;\n",
       "    }\n",
       "\n",
       "    .dataframe tbody tr th {\n",
       "        vertical-align: top;\n",
       "    }\n",
       "\n",
       "    .dataframe thead th {\n",
       "        text-align: right;\n",
       "    }\n",
       "</style>\n",
       "<table border=\"1\" class=\"dataframe\">\n",
       "  <thead>\n",
       "    <tr style=\"text-align: right;\">\n",
       "      <th></th>\n",
       "      <th>company_name</th>\n",
       "      <th>ratings_company</th>\n",
       "      <th>no of days</th>\n",
       "    </tr>\n",
       "  </thead>\n",
       "  <tbody>\n",
       "    <tr>\n",
       "      <th>0</th>\n",
       "      <td>Bechtel</td>\n",
       "      <td>4.0</td>\n",
       "      <td>16d</td>\n",
       "    </tr>\n",
       "    <tr>\n",
       "      <th>1</th>\n",
       "      <td>Angel &amp; Genie</td>\n",
       "      <td>5.0</td>\n",
       "      <td>1d</td>\n",
       "    </tr>\n",
       "    <tr>\n",
       "      <th>2</th>\n",
       "      <td>Ericsson</td>\n",
       "      <td>4.1</td>\n",
       "      <td>24h</td>\n",
       "    </tr>\n",
       "    <tr>\n",
       "      <th>3</th>\n",
       "      <td>Boston Consulting Group</td>\n",
       "      <td>4.1</td>\n",
       "      <td>24h</td>\n",
       "    </tr>\n",
       "    <tr>\n",
       "      <th>4</th>\n",
       "      <td>Lantern Digital Services</td>\n",
       "      <td>3.7</td>\n",
       "      <td>8d</td>\n",
       "    </tr>\n",
       "    <tr>\n",
       "      <th>5</th>\n",
       "      <td>Sparkbpl</td>\n",
       "      <td>3.1</td>\n",
       "      <td>14d</td>\n",
       "    </tr>\n",
       "    <tr>\n",
       "      <th>6</th>\n",
       "      <td>Mansha Solutions</td>\n",
       "      <td>3.8</td>\n",
       "      <td>9d</td>\n",
       "    </tr>\n",
       "    <tr>\n",
       "      <th>7</th>\n",
       "      <td>Priority Vendor</td>\n",
       "      <td>5.0</td>\n",
       "      <td>13d</td>\n",
       "    </tr>\n",
       "    <tr>\n",
       "      <th>8</th>\n",
       "      <td>Gauge Data Solutions</td>\n",
       "      <td>3.8</td>\n",
       "      <td>13d</td>\n",
       "    </tr>\n",
       "    <tr>\n",
       "      <th>9</th>\n",
       "      <td>Biz2Credit Inc</td>\n",
       "      <td>4.0</td>\n",
       "      <td>22d</td>\n",
       "    </tr>\n",
       "  </tbody>\n",
       "</table>\n",
       "</div>"
      ],
      "text/plain": [
       "               company_name ratings_company no of days\n",
       "0                   Bechtel             4.0        16d\n",
       "1             Angel & Genie             5.0         1d\n",
       "2                  Ericsson             4.1        24h\n",
       "3   Boston Consulting Group             4.1        24h\n",
       "4  Lantern Digital Services             3.7         8d\n",
       "5                  Sparkbpl             3.1        14d\n",
       "6          Mansha Solutions             3.8         9d\n",
       "7           Priority Vendor             5.0        13d\n",
       "8      Gauge Data Solutions             3.8        13d\n",
       "9            Biz2Credit Inc             4.0        22d"
      ]
     },
     "execution_count": 32,
     "metadata": {},
     "output_type": "execute_result"
    }
   ],
   "source": [
    "job_df = pd.DataFrame({})\n",
    "job_df['company_name'] = company_name\n",
    "job_df['ratings_company'] = rating\n",
    "job_df['no of days'] = days\n",
    "job_df"
   ]
  },
  {
   "cell_type": "markdown",
   "metadata": {},
   "source": [
    "# Q5 : Write a python program to scrape the salary data for Data Scientist designation in Noida location.You have to scrape Company name, Number of salaries, Average salary, Minsalary, Max Salary"
   ]
  },
  {
   "cell_type": "code",
   "execution_count": 3,
   "metadata": {},
   "outputs": [],
   "source": [
    "driver.get('https://www.glassdoor.co.in/Salaries/index.htm')"
   ]
  },
  {
   "cell_type": "code",
   "execution_count": 43,
   "metadata": {},
   "outputs": [],
   "source": [
    "search_title = driver.find_element_by_id(\"KeywordSearch\")\n",
    "search_title.send_keys('Data Scientist')"
   ]
  },
  {
   "cell_type": "code",
   "execution_count": 44,
   "metadata": {},
   "outputs": [],
   "source": [
    "search_loc = driver.find_element_by_id('LocationSearch')\n",
    "search_loc.send_keys('Noida')"
   ]
  },
  {
   "cell_type": "code",
   "execution_count": 45,
   "metadata": {},
   "outputs": [],
   "source": [
    "search_button = driver.find_element_by_xpath('//button[@class=\"gd-btn-mkt\"]')\n",
    "search_button.click()"
   ]
  },
  {
   "cell_type": "code",
   "execution_count": 4,
   "metadata": {},
   "outputs": [],
   "source": [
    "company = []\n",
    "for i in driver.find_elements_by_xpath('//p[@class=\"m-0 \"]')[:10]:\n",
    "    company.append(i.text.replace('/n',''))\n",
    "avg_sal = []\n",
    "for j in driver.find_elements_by_xpath('//div[@class=\"col-2 d-none d-md-flex flex-row justify-content-end\"]')[:10]:\n",
    "    avg_sal.append(j.text.replace('/n',''))\n",
    "sal = []\n",
    "for k in driver.find_elements_by_xpath('//div[@class=\"common__RangeBarStyle__values d-flex justify-content-between \"]')[:10]:\n",
    "    sal.append(k.text.replace('/n',''))"
   ]
  },
  {
   "cell_type": "code",
   "execution_count": 28,
   "metadata": {},
   "outputs": [],
   "source": [
    "#removing \\n from each element in salary\n",
    "new_strings = []\n",
    "for string in sal:\n",
    "    new_string = string.replace(\"\\n\", \" \")\n",
    "    new_strings.append(new_string)"
   ]
  },
  {
   "cell_type": "code",
   "execution_count": 31,
   "metadata": {},
   "outputs": [],
   "source": [
    "#seperating minimum and maximum salaries\n",
    "new_sal = []\n",
    "for i in new_strings:\n",
    "        j= ''\n",
    "        j = i.split(\" \")\n",
    "        new_sal.append(j)"
   ]
  },
  {
   "cell_type": "code",
   "execution_count": 35,
   "metadata": {},
   "outputs": [],
   "source": [
    "#seperating minimum and maximum salaries into different\n",
    "min_sal = []\n",
    "max_sal = []\n",
    "c=2\n",
    "for i in new_sal:\n",
    "    for j in range(len(i)):\n",
    "        if(c%2==0):\n",
    "            min_sal.append(i[0])\n",
    "            c=c+1\n",
    "        else:\n",
    "            max_sal.append(i[1])\n",
    "            c=c+1"
   ]
  },
  {
   "cell_type": "code",
   "execution_count": 40,
   "metadata": {},
   "outputs": [],
   "source": [
    "#removing '\\n' from each element in the list\n",
    "avg = []\n",
    "for string in avg_sal:\n",
    "    new_string = string.replace(\"\\n\", \" \")\n",
    "    avg.append(new_string)"
   ]
  },
  {
   "cell_type": "code",
   "execution_count": 42,
   "metadata": {},
   "outputs": [
    {
     "data": {
      "text/html": [
       "<div>\n",
       "<style scoped>\n",
       "    .dataframe tbody tr th:only-of-type {\n",
       "        vertical-align: middle;\n",
       "    }\n",
       "\n",
       "    .dataframe tbody tr th {\n",
       "        vertical-align: top;\n",
       "    }\n",
       "\n",
       "    .dataframe thead th {\n",
       "        text-align: right;\n",
       "    }\n",
       "</style>\n",
       "<table border=\"1\" class=\"dataframe\">\n",
       "  <thead>\n",
       "    <tr style=\"text-align: right;\">\n",
       "      <th></th>\n",
       "      <th>company_name</th>\n",
       "      <th>average salary</th>\n",
       "      <th>minimum salary</th>\n",
       "      <th>maximum_salary</th>\n",
       "    </tr>\n",
       "  </thead>\n",
       "  <tbody>\n",
       "    <tr>\n",
       "      <th>0</th>\n",
       "      <td>Tata Consultancy Services</td>\n",
       "      <td>₹ 6,11,228 /yr</td>\n",
       "      <td>₹343K</td>\n",
       "      <td>₹1,095K</td>\n",
       "    </tr>\n",
       "    <tr>\n",
       "      <th>1</th>\n",
       "      <td>Accenture</td>\n",
       "      <td>₹ 11,46,533 /yr</td>\n",
       "      <td>₹577K</td>\n",
       "      <td>₹2,213K</td>\n",
       "    </tr>\n",
       "    <tr>\n",
       "      <th>2</th>\n",
       "      <td>IBM</td>\n",
       "      <td>₹ 8,97,795 /yr</td>\n",
       "      <td>₹586K</td>\n",
       "      <td>₹2,730K</td>\n",
       "    </tr>\n",
       "    <tr>\n",
       "      <th>3</th>\n",
       "      <td>Ericsson-Worldwide</td>\n",
       "      <td>₹ 7,38,057 /yr</td>\n",
       "      <td>₹355K</td>\n",
       "      <td>₹1,613K</td>\n",
       "    </tr>\n",
       "    <tr>\n",
       "      <th>4</th>\n",
       "      <td>Delhivery</td>\n",
       "      <td>₹ 12,39,781 /yr</td>\n",
       "      <td>₹450K</td>\n",
       "      <td>₹11,622K</td>\n",
       "    </tr>\n",
       "    <tr>\n",
       "      <th>5</th>\n",
       "      <td>UnitedHealth Group</td>\n",
       "      <td>₹ 13,36,142 /yr</td>\n",
       "      <td>₹1,069K</td>\n",
       "      <td>₹1,520K</td>\n",
       "    </tr>\n",
       "    <tr>\n",
       "      <th>6</th>\n",
       "      <td>Valiance Solutions</td>\n",
       "      <td>₹ 8,15,192 /yr</td>\n",
       "      <td>₹502K</td>\n",
       "      <td>₹1,465K</td>\n",
       "    </tr>\n",
       "    <tr>\n",
       "      <th>7</th>\n",
       "      <td>ZS Associates</td>\n",
       "      <td>₹ 11,35,221 /yr</td>\n",
       "      <td>₹202K</td>\n",
       "      <td>₹1,809K</td>\n",
       "    </tr>\n",
       "    <tr>\n",
       "      <th>8</th>\n",
       "      <td>EXL Service</td>\n",
       "      <td>₹ 11,44,243 /yr</td>\n",
       "      <td>₹575K</td>\n",
       "      <td>₹1,520K</td>\n",
       "    </tr>\n",
       "    <tr>\n",
       "      <th>9</th>\n",
       "      <td>Optum Global Solutions</td>\n",
       "      <td>₹ 14,13,288 /yr</td>\n",
       "      <td>₹1,014K</td>\n",
       "      <td>₹2,149K</td>\n",
       "    </tr>\n",
       "  </tbody>\n",
       "</table>\n",
       "</div>"
      ],
      "text/plain": [
       "                company_name   average salary minimum salary maximum_salary\n",
       "0  Tata Consultancy Services   ₹ 6,11,228 /yr          ₹343K        ₹1,095K\n",
       "1                  Accenture  ₹ 11,46,533 /yr          ₹577K        ₹2,213K\n",
       "2                        IBM   ₹ 8,97,795 /yr          ₹586K        ₹2,730K\n",
       "3         Ericsson-Worldwide   ₹ 7,38,057 /yr          ₹355K        ₹1,613K\n",
       "4                  Delhivery  ₹ 12,39,781 /yr          ₹450K       ₹11,622K\n",
       "5         UnitedHealth Group  ₹ 13,36,142 /yr        ₹1,069K        ₹1,520K\n",
       "6         Valiance Solutions   ₹ 8,15,192 /yr          ₹502K        ₹1,465K\n",
       "7              ZS Associates  ₹ 11,35,221 /yr          ₹202K        ₹1,809K\n",
       "8                EXL Service  ₹ 11,44,243 /yr          ₹575K        ₹1,520K\n",
       "9     Optum Global Solutions  ₹ 14,13,288 /yr        ₹1,014K        ₹2,149K"
      ]
     },
     "execution_count": 42,
     "metadata": {},
     "output_type": "execute_result"
    }
   ],
   "source": [
    "salaries_df = pd.DataFrame({})\n",
    "salaries_df['company_name'] = company\n",
    "salaries_df['average salary'] = avg\n",
    "salaries_df['minimum salary'] = min_sal\n",
    "salaries_df['maximum_salary'] = max_sal\n",
    "salaries_df"
   ]
  },
  {
   "cell_type": "markdown",
   "metadata": {},
   "source": [
    "# Q6 Scrape data of first 100 sunglasses listings on flipkart.com. You have to scrape four attributes:\n",
    "1. Brand2. Product Description\n",
    "3. Price\n",
    "4. Discount %"
   ]
  },
  {
   "cell_type": "code",
   "execution_count": 4,
   "metadata": {},
   "outputs": [],
   "source": [
    "driver.get('https://www.flipkart.com/')\n"
   ]
  },
  {
   "cell_type": "code",
   "execution_count": 5,
   "metadata": {},
   "outputs": [],
   "source": [
    "search_product = driver.find_element_by_xpath('//input[@class=\"_3704LK\"]')"
   ]
  },
  {
   "cell_type": "code",
   "execution_count": 6,
   "metadata": {},
   "outputs": [],
   "source": [
    "search_product.send_keys('Sunglasses')"
   ]
  },
  {
   "cell_type": "code",
   "execution_count": 7,
   "metadata": {},
   "outputs": [],
   "source": [
    "search_click = driver.find_element_by_xpath('//button[@class=\"L0Z3Pu\"]')"
   ]
  },
  {
   "cell_type": "code",
   "execution_count": 11,
   "metadata": {},
   "outputs": [],
   "source": [
    "search_click.click()"
   ]
  },
  {
   "cell_type": "code",
   "execution_count": 12,
   "metadata": {},
   "outputs": [],
   "source": [
    "brand_name = []\n",
    "price = []\n",
    "discount=  []"
   ]
  },
  {
   "cell_type": "code",
   "execution_count": 13,
   "metadata": {},
   "outputs": [],
   "source": [
    "for j in driver.find_elements_by_xpath('//div[@class=\"_2WkVRV\"]')[:40]:\n",
    "    brand_name.append(j.text.replace('/n',''))\n",
    "for k in driver.find_elements_by_xpath('//div[@class=\"_30jeq3\"]')[:40]:\n",
    "    price.append(k.text.replace('/n',''))\n",
    "for m in driver.find_elements_by_xpath('//div[@class=\"_3Ay6Sb\"]')[:40]:\n",
    "    discount.append(m.text.replace('/n',''))\n"
   ]
  },
  {
   "cell_type": "code",
   "execution_count": 14,
   "metadata": {},
   "outputs": [],
   "source": [
    "url = []\n",
    "for i in driver.find_elements_by_xpath('//a[@class=\"IRpwTa\"]')[:40]:\n",
    "    url.append(i.get_attribute('href'))"
   ]
  },
  {
   "cell_type": "code",
   "execution_count": 15,
   "metadata": {},
   "outputs": [],
   "source": [
    "product_desc = []\n",
    "for i in url:\n",
    "    driver.get(i)\n",
    "    try:\n",
    "        desc = driver.find_element_by_xpath('//div[@class=\"aMaAEs\"]')\n",
    "        product_desc.append(desc.text.replace('/n',''))\n",
    "    except NoSuchElementException:\n",
    "        product_desc.append('-')\n",
    "        \n"
   ]
  },
  {
   "cell_type": "code",
   "execution_count": 17,
   "metadata": {},
   "outputs": [],
   "source": [
    "try:\n",
    "    next_pg = driver.find_element_by_xpath('//a[@class=\"_1LKTO3\"][2]') #for next page using indexing\n",
    "    next_pg.click()\n",
    "except:\n",
    "    next_pg = driver.find_element_by_xpath('//a[@class=\"_1LKTO3\"]')  \n",
    "    next_pg.click()\n",
    "    #for first to second pafe only one option was there so need for indexing\n"
   ]
  },
  {
   "cell_type": "code",
   "execution_count": 19,
   "metadata": {},
   "outputs": [],
   "source": [
    "#for second page\n",
    "for j in driver.find_elements_by_xpath('//div[@class=\"_2WkVRV\"]')[:40]:\n",
    "    brand_name.append(j.text.replace('/n',''))\n",
    "for k in driver.find_elements_by_xpath('//div[@class=\"_30jeq3\"]')[:40]:\n",
    "    price.append(k.text.replace('/n',''))\n",
    "for m in driver.find_elements_by_xpath('//div[@class=\"_3Ay6Sb\"]')[:40]:\n",
    "    discount.append(m.text.replace('/n',''))\n",
    "for i in driver.find_elements_by_xpath('//a[@class=\"IRpwTa\"]')[:40]:\n",
    "    url.append(i.get_attribute('href'))\n",
    "for i in url:\n",
    "    driver.get(i)\n",
    "    try:\n",
    "        desc = driver.find_element_by_xpath('//div[@class=\"aMaAEs\"]')\n",
    "        product_desc.append(desc.text.replace('/n',''))\n",
    "    except NoSuchElementException:\n",
    "        product_desc.append('-')\n",
    "        \n"
   ]
  },
  {
   "cell_type": "code",
   "execution_count": 51,
   "metadata": {},
   "outputs": [],
   "source": [
    "try:\n",
    "    next_pg = driver.find_element_by_xpath('//a[@class=\"_1LKTO3\"][2]')\n",
    "    next_pg.click()\n",
    "except:\n",
    "    next_pg = driver.find_element_by_xpath('//a[@class=\"_1LKTO3\"]')\n",
    "    next_pg.click()"
   ]
  },
  {
   "cell_type": "code",
   "execution_count": 26,
   "metadata": {},
   "outputs": [],
   "source": [
    "#for remaining last 20 product\n",
    "for j in driver.find_elements_by_xpath('//div[@class=\"_2WkVRV\"]')[:20]:\n",
    "    brand_name.append(j.text.replace('/n',''))\n",
    "for k in driver.find_elements_by_xpath('//div[@class=\"_30jeq3\"]')[:20]:\n",
    "    price.append(k.text.replace('/n',''))\n",
    "for m in driver.find_elements_by_xpath('//div[@class=\"_3Ay6Sb\"]')[:20]:\n",
    "    discount.append(m.text.replace('/n',''))\n",
    "for i in driver.find_elements_by_xpath('//a[@class=\"IRpwTa\"]')[:20]:\n",
    "    url.append(i.get_attribute('href'))\n",
    "for i in url:\n",
    "    driver.get(i)\n",
    "    try:\n",
    "        desc = driver.find_element_by_xpath('//div[@class=\"aMaAEs\"]')\n",
    "        product_desc.append(desc.text.replace('/n',''))\n",
    "    except NoSuchElementException:\n",
    "        product_desc.append('-')"
   ]
  },
  {
   "cell_type": "code",
   "execution_count": 32,
   "metadata": {},
   "outputs": [],
   "source": [
    "sunglasses_df = pd.DataFrame({})\n",
    "sunglasses_df['brand_name'] = brand_name\n",
    "sunglasses_df['price'] = price\n",
    "sunglasses_df['discount'] = discount\n",
    "sunglasses_df['description'] = product_desc"
   ]
  },
  {
   "cell_type": "code",
   "execution_count": 33,
   "metadata": {},
   "outputs": [
    {
     "data": {
      "text/html": [
       "<div>\n",
       "<style scoped>\n",
       "    .dataframe tbody tr th:only-of-type {\n",
       "        vertical-align: middle;\n",
       "    }\n",
       "\n",
       "    .dataframe tbody tr th {\n",
       "        vertical-align: top;\n",
       "    }\n",
       "\n",
       "    .dataframe thead th {\n",
       "        text-align: right;\n",
       "    }\n",
       "</style>\n",
       "<table border=\"1\" class=\"dataframe\">\n",
       "  <thead>\n",
       "    <tr style=\"text-align: right;\">\n",
       "      <th></th>\n",
       "      <th>brand_name</th>\n",
       "      <th>price</th>\n",
       "      <th>discount</th>\n",
       "      <th>description</th>\n",
       "    </tr>\n",
       "  </thead>\n",
       "  <tbody>\n",
       "    <tr>\n",
       "      <th>0</th>\n",
       "      <td>Fastrack</td>\n",
       "      <td>₹758</td>\n",
       "      <td>15% off</td>\n",
       "      <td>Fastrack \\nUV Protection Wayfarer Sunglasses (...</td>\n",
       "    </tr>\n",
       "    <tr>\n",
       "      <th>1</th>\n",
       "      <td>Fastrack</td>\n",
       "      <td>₹630</td>\n",
       "      <td>21% off</td>\n",
       "      <td>Fastrack \\nUV Protection Rectangular Sunglasse...</td>\n",
       "    </tr>\n",
       "    <tr>\n",
       "      <th>2</th>\n",
       "      <td>ROZZETTA CRAFT</td>\n",
       "      <td>₹499</td>\n",
       "      <td>77% off</td>\n",
       "      <td>ROZZETTA CRAFT \\nUV Protection Retro Square Su...</td>\n",
       "    </tr>\n",
       "    <tr>\n",
       "      <th>3</th>\n",
       "      <td>PHENOMENAL</td>\n",
       "      <td>₹399</td>\n",
       "      <td>80% off</td>\n",
       "      <td>PHENOMENAL \\nUV Protection Retro Square Sungla...</td>\n",
       "    </tr>\n",
       "    <tr>\n",
       "      <th>4</th>\n",
       "      <td>Fastrack</td>\n",
       "      <td>₹674</td>\n",
       "      <td>25% off</td>\n",
       "      <td>Fastrack \\nUV Protection Aviator Sunglasses (F...</td>\n",
       "    </tr>\n",
       "    <tr>\n",
       "      <th>...</th>\n",
       "      <td>...</td>\n",
       "      <td>...</td>\n",
       "      <td>...</td>\n",
       "      <td>...</td>\n",
       "    </tr>\n",
       "    <tr>\n",
       "      <th>95</th>\n",
       "      <td>ROYAL SON</td>\n",
       "      <td>₹599</td>\n",
       "      <td>70% off</td>\n",
       "      <td>PHENOMENAL \\nUV Protection, Mirrored Retro Squ...</td>\n",
       "    </tr>\n",
       "    <tr>\n",
       "      <th>96</th>\n",
       "      <td>Fastrack</td>\n",
       "      <td>₹576</td>\n",
       "      <td>27% off</td>\n",
       "      <td>Fastrack \\nUV Protection Wayfarer Sunglasses (...</td>\n",
       "    </tr>\n",
       "    <tr>\n",
       "      <th>97</th>\n",
       "      <td>Elligator</td>\n",
       "      <td>₹279</td>\n",
       "      <td>88% off</td>\n",
       "      <td>DEIXELS \\nUV Protection Aviator, Wayfarer Sung...</td>\n",
       "    </tr>\n",
       "    <tr>\n",
       "      <th>98</th>\n",
       "      <td>Wrogn</td>\n",
       "      <td>₹1,162</td>\n",
       "      <td>64% off</td>\n",
       "      <td>GANSTA \\nUV Protection Aviator Sunglasses (57)...</td>\n",
       "    </tr>\n",
       "    <tr>\n",
       "      <th>99</th>\n",
       "      <td>ROYAL SON</td>\n",
       "      <td>₹499</td>\n",
       "      <td>66% off</td>\n",
       "      <td>Fastrack \\nUV Protection Aviator Sunglasses (5...</td>\n",
       "    </tr>\n",
       "  </tbody>\n",
       "</table>\n",
       "<p>100 rows × 4 columns</p>\n",
       "</div>"
      ],
      "text/plain": [
       "        brand_name   price discount  \\\n",
       "0         Fastrack    ₹758  15% off   \n",
       "1         Fastrack    ₹630  21% off   \n",
       "2   ROZZETTA CRAFT    ₹499  77% off   \n",
       "3       PHENOMENAL    ₹399  80% off   \n",
       "4         Fastrack    ₹674  25% off   \n",
       "..             ...     ...      ...   \n",
       "95       ROYAL SON    ₹599  70% off   \n",
       "96        Fastrack    ₹576  27% off   \n",
       "97       Elligator    ₹279  88% off   \n",
       "98           Wrogn  ₹1,162  64% off   \n",
       "99       ROYAL SON    ₹499  66% off   \n",
       "\n",
       "                                          description  \n",
       "0   Fastrack \\nUV Protection Wayfarer Sunglasses (...  \n",
       "1   Fastrack \\nUV Protection Rectangular Sunglasse...  \n",
       "2   ROZZETTA CRAFT \\nUV Protection Retro Square Su...  \n",
       "3   PHENOMENAL \\nUV Protection Retro Square Sungla...  \n",
       "4   Fastrack \\nUV Protection Aviator Sunglasses (F...  \n",
       "..                                                ...  \n",
       "95  PHENOMENAL \\nUV Protection, Mirrored Retro Squ...  \n",
       "96  Fastrack \\nUV Protection Wayfarer Sunglasses (...  \n",
       "97  DEIXELS \\nUV Protection Aviator, Wayfarer Sung...  \n",
       "98  GANSTA \\nUV Protection Aviator Sunglasses (57)...  \n",
       "99  Fastrack \\nUV Protection Aviator Sunglasses (5...  \n",
       "\n",
       "[100 rows x 4 columns]"
      ]
     },
     "execution_count": 33,
     "metadata": {},
     "output_type": "execute_result"
    }
   ],
   "source": [
    "sunglasses_df"
   ]
  },
  {
   "cell_type": "markdown",
   "metadata": {},
   "source": [
    "# Q7 Scrape 100 reviews data from flipkart.com for iphone11 phone"
   ]
  },
  {
   "cell_type": "code",
   "execution_count": 4,
   "metadata": {},
   "outputs": [],
   "source": [
    "driver.get('https://www.flipkart.com/apple-iphone-11-black-64-gb-includes-earpods-power-adapter/p/itm0f37c2240b217?pid=MOBFKCTSVZAXUHGR&lid=LSTMOBFKCTSVZAXUHGREPBFGI&marketplace')"
   ]
  },
  {
   "cell_type": "code",
   "execution_count": 7,
   "metadata": {},
   "outputs": [],
   "source": [
    "rating = []\n",
    "review_summary = []\n",
    "review_desc = []"
   ]
  },
  {
   "cell_type": "code",
   "execution_count": 9,
   "metadata": {},
   "outputs": [],
   "source": [
    "for i in range(10):\n",
    "    for j in driver.find_elements_by_xpath('//div[@class=\"_3LWZlK _1BLPMq\"]')[:10]:\n",
    "        rating.append(j.text.replace('/n',''))\n",
    "    for k in driver.find_elements_by_xpath('//p[@class=\"_2-N8zT\"]')[:10]:\n",
    "        review_summary.append(k.text.replace('/n',''))\n",
    "    for m in driver.find_elements_by_xpath('//div[@class=\"t-ZTKy\"]')[:10]:\n",
    "        review_desc.append(m.text.replace('/n',''))\n",
    "    driver.find_element_by_xpath('//a[@class=\"_1LKTO3\"][2]').click()\n",
    "    time.sleep(3)\n",
    "        "
   ]
  },
  {
   "cell_type": "code",
   "execution_count": 25,
   "metadata": {},
   "outputs": [],
   "source": [
    "iphone_df = pd.DataFrame({})\n",
    "iphone_df['rating'] = rating\n",
    "iphone_df['review_summary'] = review_summary\n",
    "iphone_df['review_desc'] = review_desc"
   ]
  },
  {
   "cell_type": "code",
   "execution_count": 26,
   "metadata": {},
   "outputs": [
    {
     "data": {
      "text/html": [
       "<div>\n",
       "<style scoped>\n",
       "    .dataframe tbody tr th:only-of-type {\n",
       "        vertical-align: middle;\n",
       "    }\n",
       "\n",
       "    .dataframe tbody tr th {\n",
       "        vertical-align: top;\n",
       "    }\n",
       "\n",
       "    .dataframe thead th {\n",
       "        text-align: right;\n",
       "    }\n",
       "</style>\n",
       "<table border=\"1\" class=\"dataframe\">\n",
       "  <thead>\n",
       "    <tr style=\"text-align: right;\">\n",
       "      <th></th>\n",
       "      <th>rating</th>\n",
       "      <th>review_summary</th>\n",
       "      <th>review_desc</th>\n",
       "    </tr>\n",
       "  </thead>\n",
       "  <tbody>\n",
       "    <tr>\n",
       "      <th>0</th>\n",
       "      <td>5</td>\n",
       "      <td>Worth every penny</td>\n",
       "      <td>Best budget Iphone till date ❤️ go for it guys...</td>\n",
       "    </tr>\n",
       "    <tr>\n",
       "      <th>1</th>\n",
       "      <td>5</td>\n",
       "      <td>Perfect product!</td>\n",
       "      <td>Iphone is just awesome.. battery backup is ver...</td>\n",
       "    </tr>\n",
       "    <tr>\n",
       "      <th>2</th>\n",
       "      <td>5</td>\n",
       "      <td>Worth every penny</td>\n",
       "      <td>It’s been almost a month since I have been usi...</td>\n",
       "    </tr>\n",
       "    <tr>\n",
       "      <th>3</th>\n",
       "      <td>4</td>\n",
       "      <td>Nice product</td>\n",
       "      <td>Awesome Phone. Slightly high price but worth. ...</td>\n",
       "    </tr>\n",
       "    <tr>\n",
       "      <th>4</th>\n",
       "      <td>5</td>\n",
       "      <td>Simply awesome</td>\n",
       "      <td>Excellent camera, good performance, no lag. Th...</td>\n",
       "    </tr>\n",
       "    <tr>\n",
       "      <th>...</th>\n",
       "      <td>...</td>\n",
       "      <td>...</td>\n",
       "      <td>...</td>\n",
       "    </tr>\n",
       "    <tr>\n",
       "      <th>95</th>\n",
       "      <td>5</td>\n",
       "      <td>Excellent</td>\n",
       "      <td>A perfect phone and a good battery super camer...</td>\n",
       "    </tr>\n",
       "    <tr>\n",
       "      <th>96</th>\n",
       "      <td>4</td>\n",
       "      <td>Fabulous!</td>\n",
       "      <td>Everything is perfect pictures come out so cle...</td>\n",
       "    </tr>\n",
       "    <tr>\n",
       "      <th>97</th>\n",
       "      <td>5</td>\n",
       "      <td>Wonderful</td>\n",
       "      <td>Nice value for money good and best price I pho...</td>\n",
       "    </tr>\n",
       "    <tr>\n",
       "      <th>98</th>\n",
       "      <td>5</td>\n",
       "      <td>Fabulous!</td>\n",
       "      <td>Just an awesome phone...upgraded from 6s to 11...</td>\n",
       "    </tr>\n",
       "    <tr>\n",
       "      <th>99</th>\n",
       "      <td>5</td>\n",
       "      <td>Value-for-money</td>\n",
       "      <td>As usual a great product from Apple. but the l...</td>\n",
       "    </tr>\n",
       "  </tbody>\n",
       "</table>\n",
       "<p>100 rows × 3 columns</p>\n",
       "</div>"
      ],
      "text/plain": [
       "   rating     review_summary  \\\n",
       "0       5  Worth every penny   \n",
       "1       5   Perfect product!   \n",
       "2       5  Worth every penny   \n",
       "3       4       Nice product   \n",
       "4       5     Simply awesome   \n",
       "..    ...                ...   \n",
       "95      5          Excellent   \n",
       "96      4          Fabulous!   \n",
       "97      5          Wonderful   \n",
       "98      5          Fabulous!   \n",
       "99      5    Value-for-money   \n",
       "\n",
       "                                          review_desc  \n",
       "0   Best budget Iphone till date ❤️ go for it guys...  \n",
       "1   Iphone is just awesome.. battery backup is ver...  \n",
       "2   It’s been almost a month since I have been usi...  \n",
       "3   Awesome Phone. Slightly high price but worth. ...  \n",
       "4   Excellent camera, good performance, no lag. Th...  \n",
       "..                                                ...  \n",
       "95  A perfect phone and a good battery super camer...  \n",
       "96  Everything is perfect pictures come out so cle...  \n",
       "97  Nice value for money good and best price I pho...  \n",
       "98  Just an awesome phone...upgraded from 6s to 11...  \n",
       "99  As usual a great product from Apple. but the l...  \n",
       "\n",
       "[100 rows x 3 columns]"
      ]
     },
     "execution_count": 26,
     "metadata": {},
     "output_type": "execute_result"
    }
   ],
   "source": [
    "iphone_df"
   ]
  },
  {
   "cell_type": "markdown",
   "metadata": {},
   "source": [
    "# Q8 Scrape data for first 100 sneakers you find when you visit flipkart.com and search for “sneakers” in the search field.You have to scrape 4 attributes of each sneaker :\n",
    "1. Brand\n",
    "2. Product Description\n",
    "3. Price\n",
    "4. discount %"
   ]
  },
  {
   "cell_type": "code",
   "execution_count": 5,
   "metadata": {},
   "outputs": [],
   "source": [
    "driver.get('https://www.flipkart.com/')"
   ]
  },
  {
   "cell_type": "code",
   "execution_count": 6,
   "metadata": {},
   "outputs": [],
   "source": [
    "search_product = driver.find_element_by_xpath('//input[@class=\"_3704LK\"]')\n",
    "search_product.send_keys('sneakers')"
   ]
  },
  {
   "cell_type": "code",
   "execution_count": 8,
   "metadata": {},
   "outputs": [],
   "source": [
    "search_click = driver.find_element_by_xpath('//button[@class=\"L0Z3Pu\"]')\n",
    "search_click.click()"
   ]
  },
  {
   "cell_type": "code",
   "execution_count": 10,
   "metadata": {},
   "outputs": [],
   "source": [
    "brand = []\n",
    "discount = []\n",
    "desc = []\n",
    "price = []"
   ]
  },
  {
   "cell_type": "code",
   "execution_count": 12,
   "metadata": {},
   "outputs": [],
   "source": [
    "for i in range(2):\n",
    "    for j in driver.find_elements_by_xpath('//div[@class=\"_2WkVRV\"]')[:40]:\n",
    "        brand.append(j.text.replace('/n',''))\n",
    "    for k in driver.find_elements_by_xpath('//div[@class=\"_30jeq3\"]')[:40]:\n",
    "        price.append(k.text.replace('/n',''))\n",
    "    for m in driver.find_elements_by_xpath('//div[@class=\"_3Ay6Sb\"]/span')[:40]:\n",
    "        discount.append(m.text.replace('/n',''))\n",
    "    for n in driver.find_elements_by_xpath('//a[@class=\"IRpwTa\"]')[:40]:\n",
    "        desc.append(n.text.replace('/n',''))\n",
    "    driver.find_element_by_xpath('//a[@class=\"_1LKTO3\"]').click() #clicking on the same next page\n",
    "    time.sleep(3)\n",
    "    "
   ]
  },
  {
   "cell_type": "code",
   "execution_count": 36,
   "metadata": {},
   "outputs": [],
   "source": [
    "driver.find_element_by_xpath('//a[@class=\"_1LKTO3\"]').click()   #for last 20 items\n",
    "for j in driver.find_elements_by_xpath('//div[@class=\"_2WkVRV\"]')[:20]:\n",
    "    brand.append(j.text.replace('/n',''))\n",
    "for k in driver.find_elements_by_xpath('//div[@class=\"_30jeq3\"]')[:20]:\n",
    "    price.append(k.text.replace('/n',''))\n",
    "for m in driver.find_elements_by_xpath('//div[@class=\"_3Ay6Sb\"]/span')[:20]:\n",
    "    discount.append(m.text.replace('/n',''))\n",
    "for n in driver.find_elements_by_xpath('//a[@class=\"IRpwTa\"]')[:20]:\n",
    "    desc.append(n.text.replace('/n',''))"
   ]
  },
  {
   "cell_type": "code",
   "execution_count": 26,
   "metadata": {},
   "outputs": [],
   "source": [
    "sneakers = pd.DataFrame({})\n",
    "sneakers['brand name'] = brand\n",
    "sneakers['price'] = price\n",
    "sneakers['discount'] = discount\n",
    "sneakers['description'] = desc"
   ]
  },
  {
   "cell_type": "code",
   "execution_count": 27,
   "metadata": {},
   "outputs": [
    {
     "data": {
      "text/html": [
       "<div>\n",
       "<style scoped>\n",
       "    .dataframe tbody tr th:only-of-type {\n",
       "        vertical-align: middle;\n",
       "    }\n",
       "\n",
       "    .dataframe tbody tr th {\n",
       "        vertical-align: top;\n",
       "    }\n",
       "\n",
       "    .dataframe thead th {\n",
       "        text-align: right;\n",
       "    }\n",
       "</style>\n",
       "<table border=\"1\" class=\"dataframe\">\n",
       "  <thead>\n",
       "    <tr style=\"text-align: right;\">\n",
       "      <th></th>\n",
       "      <th>brand name</th>\n",
       "      <th>price</th>\n",
       "      <th>discount</th>\n",
       "      <th>description</th>\n",
       "    </tr>\n",
       "  </thead>\n",
       "  <tbody>\n",
       "    <tr>\n",
       "      <th>0</th>\n",
       "      <td>Numenzo</td>\n",
       "      <td>₹429</td>\n",
       "      <td>57% off</td>\n",
       "      <td>Sneakers For Men</td>\n",
       "    </tr>\n",
       "    <tr>\n",
       "      <th>1</th>\n",
       "      <td>World Wear Footwear</td>\n",
       "      <td>₹608</td>\n",
       "      <td>39% off</td>\n",
       "      <td>Combo Pack of 2 Latest Collection Stylish casu...</td>\n",
       "    </tr>\n",
       "    <tr>\n",
       "      <th>2</th>\n",
       "      <td>Robbie jones</td>\n",
       "      <td>₹399</td>\n",
       "      <td>60% off</td>\n",
       "      <td>Casual Sneakers Shoes For Men Sneakers For Men</td>\n",
       "    </tr>\n",
       "    <tr>\n",
       "      <th>3</th>\n",
       "      <td>aadi</td>\n",
       "      <td>₹298</td>\n",
       "      <td>70% off</td>\n",
       "      <td>Sneakers For Men</td>\n",
       "    </tr>\n",
       "    <tr>\n",
       "      <th>4</th>\n",
       "      <td>Numenzo</td>\n",
       "      <td>₹398</td>\n",
       "      <td>60% off</td>\n",
       "      <td>Sneakers For Men</td>\n",
       "    </tr>\n",
       "    <tr>\n",
       "      <th>...</th>\n",
       "      <td>...</td>\n",
       "      <td>...</td>\n",
       "      <td>...</td>\n",
       "      <td>...</td>\n",
       "    </tr>\n",
       "    <tr>\n",
       "      <th>95</th>\n",
       "      <td>Zorth</td>\n",
       "      <td>₹699</td>\n",
       "      <td>30% off</td>\n",
       "      <td>Combo Pack of 2 Casual Sneakers For Men</td>\n",
       "    </tr>\n",
       "    <tr>\n",
       "      <th>96</th>\n",
       "      <td>BLACK BOTTOM</td>\n",
       "      <td>₹449</td>\n",
       "      <td>55% off</td>\n",
       "      <td>Sneakers For Men</td>\n",
       "    </tr>\n",
       "    <tr>\n",
       "      <th>97</th>\n",
       "      <td>SPARX</td>\n",
       "      <td>₹699</td>\n",
       "      <td>57% off</td>\n",
       "      <td>Sneakers For Men</td>\n",
       "    </tr>\n",
       "    <tr>\n",
       "      <th>98</th>\n",
       "      <td>Numenzo</td>\n",
       "      <td>₹429</td>\n",
       "      <td>85% off</td>\n",
       "      <td>Latest Collection-1227 Stylish Casual Sports S...</td>\n",
       "    </tr>\n",
       "    <tr>\n",
       "      <th>99</th>\n",
       "      <td>BRUTON</td>\n",
       "      <td>₹499</td>\n",
       "      <td>57% off</td>\n",
       "      <td>Sneakers For Men</td>\n",
       "    </tr>\n",
       "  </tbody>\n",
       "</table>\n",
       "<p>100 rows × 4 columns</p>\n",
       "</div>"
      ],
      "text/plain": [
       "             brand name price discount  \\\n",
       "0               Numenzo  ₹429  57% off   \n",
       "1   World Wear Footwear  ₹608  39% off   \n",
       "2          Robbie jones  ₹399  60% off   \n",
       "3                  aadi  ₹298  70% off   \n",
       "4               Numenzo  ₹398  60% off   \n",
       "..                  ...   ...      ...   \n",
       "95                Zorth  ₹699  30% off   \n",
       "96         BLACK BOTTOM  ₹449  55% off   \n",
       "97                SPARX  ₹699  57% off   \n",
       "98              Numenzo  ₹429  85% off   \n",
       "99               BRUTON  ₹499  57% off   \n",
       "\n",
       "                                          description  \n",
       "0                                    Sneakers For Men  \n",
       "1   Combo Pack of 2 Latest Collection Stylish casu...  \n",
       "2      Casual Sneakers Shoes For Men Sneakers For Men  \n",
       "3                                    Sneakers For Men  \n",
       "4                                    Sneakers For Men  \n",
       "..                                                ...  \n",
       "95            Combo Pack of 2 Casual Sneakers For Men  \n",
       "96                                   Sneakers For Men  \n",
       "97                                   Sneakers For Men  \n",
       "98  Latest Collection-1227 Stylish Casual Sports S...  \n",
       "99                                   Sneakers For Men  \n",
       "\n",
       "[100 rows x 4 columns]"
      ]
     },
     "execution_count": 27,
     "metadata": {},
     "output_type": "execute_result"
    }
   ],
   "source": [
    "sneakers"
   ]
  },
  {
   "cell_type": "markdown",
   "metadata": {},
   "source": [
    "# Q9 Go to the link - https://www.myntra.com/shoes Set Price filter to “Rs. 6649 to Rs. 13099” , Color filter to “Black”, And then scrape First 100 shoes data you get. The data should include “Brand” of the shoes , Short Shoe description, price of the shoe"
   ]
  },
  {
   "cell_type": "code",
   "execution_count": 5,
   "metadata": {},
   "outputs": [],
   "source": [
    "driver.get('https://www.myntra.com/shoes')"
   ]
  },
  {
   "cell_type": "code",
   "execution_count": 8,
   "metadata": {},
   "outputs": [],
   "source": [
    "price_filter = driver.find_element_by_xpath('//ul[@class=\"price-list\"]')"
   ]
  },
  {
   "cell_type": "code",
   "execution_count": 10,
   "metadata": {},
   "outputs": [],
   "source": [
    "for i  in price_filter.text.replace('/n',''):\n",
    "    if(i=='Rs. 6649 to Rs. 13099(1773)'):\n",
    "        i.click()"
   ]
  },
  {
   "cell_type": "code",
   "execution_count": 23,
   "metadata": {},
   "outputs": [],
   "source": [
    "color_filter = driver.find_elements_by_xpath('//label[@class=\"common-customCheckbox\"]/span')"
   ]
  },
  {
   "cell_type": "code",
   "execution_count": 26,
   "metadata": {},
   "outputs": [],
   "source": [
    "for i  in color_filter:\n",
    "    if(i=='Black'):\n",
    "        i.click()"
   ]
  },
  {
   "cell_type": "code",
   "execution_count": 27,
   "metadata": {},
   "outputs": [],
   "source": [
    "brand_name = []\n",
    "short_desc = []\n",
    "price = []"
   ]
  },
  {
   "cell_type": "code",
   "execution_count": 28,
   "metadata": {},
   "outputs": [],
   "source": [
    "for i in range(2):\n",
    "    for j in driver.find_elements_by_xpath('//h3[@class=\"product-brand\"]')[:50]:\n",
    "        brand_name.append(j.text.replace('/n',''))\n",
    "    for k in driver.find_elements_by_xpath('//h4[@class=\"product-product\"]')[:50]:\n",
    "        short_desc.append(k.text.replace('/n',''))\n",
    "    for m in driver.find_elements_by_xpath('//div[@class=\"product-price\"]/span')[:50]:\n",
    "        price.append(m.text.replace('/n',''))\n",
    "    driver.find_element_by_xpath('//li[@class=\"pagination-next\"]').click()\n",
    "    #from each page fetching 50 records and clicking to next page\n",
    "    time.sleep(3)\n",
    "    \n",
    "    "
   ]
  },
  {
   "cell_type": "code",
   "execution_count": 30,
   "metadata": {},
   "outputs": [],
   "source": [
    "shoes_df = pd.DataFrame({})\n",
    "shoes_df['brand name'] = brand_name\n",
    "shoes_df['price'] = price\n",
    "shoes_df['short description'] = short_desc"
   ]
  },
  {
   "cell_type": "code",
   "execution_count": 31,
   "metadata": {},
   "outputs": [
    {
     "data": {
      "text/html": [
       "<div>\n",
       "<style scoped>\n",
       "    .dataframe tbody tr th:only-of-type {\n",
       "        vertical-align: middle;\n",
       "    }\n",
       "\n",
       "    .dataframe tbody tr th {\n",
       "        vertical-align: top;\n",
       "    }\n",
       "\n",
       "    .dataframe thead th {\n",
       "        text-align: right;\n",
       "    }\n",
       "</style>\n",
       "<table border=\"1\" class=\"dataframe\">\n",
       "  <thead>\n",
       "    <tr style=\"text-align: right;\">\n",
       "      <th></th>\n",
       "      <th>brand name</th>\n",
       "      <th>price</th>\n",
       "      <th>short description</th>\n",
       "    </tr>\n",
       "  </thead>\n",
       "  <tbody>\n",
       "    <tr>\n",
       "      <th>0</th>\n",
       "      <td>Reebok</td>\n",
       "      <td>Rs. 7599</td>\n",
       "      <td>Women Nanoflex Training Shoes</td>\n",
       "    </tr>\n",
       "    <tr>\n",
       "      <th>1</th>\n",
       "      <td>Bugatti</td>\n",
       "      <td>Rs. 7499</td>\n",
       "      <td>Women Mules</td>\n",
       "    </tr>\n",
       "    <tr>\n",
       "      <th>2</th>\n",
       "      <td>Heel &amp; Buckle London</td>\n",
       "      <td>Rs. 6993Rs. 9990</td>\n",
       "      <td>Men Leather Sneakers</td>\n",
       "    </tr>\n",
       "    <tr>\n",
       "      <th>3</th>\n",
       "      <td>Cole Haan</td>\n",
       "      <td>(30% OFF)</td>\n",
       "      <td>Men Wingtip Oxford Sneakers</td>\n",
       "    </tr>\n",
       "    <tr>\n",
       "      <th>4</th>\n",
       "      <td>Cole Haan</td>\n",
       "      <td>Rs. 12999</td>\n",
       "      <td>Men GENERATION ZEROGRAND STITCHLITE</td>\n",
       "    </tr>\n",
       "    <tr>\n",
       "      <th>...</th>\n",
       "      <td>...</td>\n",
       "      <td>...</td>\n",
       "      <td>...</td>\n",
       "    </tr>\n",
       "    <tr>\n",
       "      <th>95</th>\n",
       "      <td>UNDER ARMOUR</td>\n",
       "      <td>Rs. 8999Rs. 9999</td>\n",
       "      <td>HOVR Infinite 2 Running Shoes</td>\n",
       "    </tr>\n",
       "    <tr>\n",
       "      <th>96</th>\n",
       "      <td>KIPRUN By Decathlon</td>\n",
       "      <td>(10% OFF)</td>\n",
       "      <td>Women Running Shoes</td>\n",
       "    </tr>\n",
       "    <tr>\n",
       "      <th>97</th>\n",
       "      <td>Geox</td>\n",
       "      <td>Rs. 7400Rs. 14800</td>\n",
       "      <td>Men Leather Driving Shoes</td>\n",
       "    </tr>\n",
       "    <tr>\n",
       "      <th>98</th>\n",
       "      <td>Vans</td>\n",
       "      <td>(50% OFF)</td>\n",
       "      <td>Men Striped Sneakers</td>\n",
       "    </tr>\n",
       "    <tr>\n",
       "      <th>99</th>\n",
       "      <td>Nike</td>\n",
       "      <td>Rs. 10799Rs. 11999</td>\n",
       "      <td>Men AIR ZOOM Running Shoes</td>\n",
       "    </tr>\n",
       "  </tbody>\n",
       "</table>\n",
       "<p>100 rows × 3 columns</p>\n",
       "</div>"
      ],
      "text/plain": [
       "              brand name               price  \\\n",
       "0                 Reebok            Rs. 7599   \n",
       "1                Bugatti            Rs. 7499   \n",
       "2   Heel & Buckle London    Rs. 6993Rs. 9990   \n",
       "3              Cole Haan           (30% OFF)   \n",
       "4              Cole Haan           Rs. 12999   \n",
       "..                   ...                 ...   \n",
       "95          UNDER ARMOUR    Rs. 8999Rs. 9999   \n",
       "96   KIPRUN By Decathlon           (10% OFF)   \n",
       "97                  Geox   Rs. 7400Rs. 14800   \n",
       "98                  Vans           (50% OFF)   \n",
       "99                  Nike  Rs. 10799Rs. 11999   \n",
       "\n",
       "                      short description  \n",
       "0         Women Nanoflex Training Shoes  \n",
       "1                           Women Mules  \n",
       "2                  Men Leather Sneakers  \n",
       "3           Men Wingtip Oxford Sneakers  \n",
       "4   Men GENERATION ZEROGRAND STITCHLITE  \n",
       "..                                  ...  \n",
       "95        HOVR Infinite 2 Running Shoes  \n",
       "96                  Women Running Shoes  \n",
       "97            Men Leather Driving Shoes  \n",
       "98                 Men Striped Sneakers  \n",
       "99           Men AIR ZOOM Running Shoes  \n",
       "\n",
       "[100 rows x 3 columns]"
      ]
     },
     "execution_count": 31,
     "metadata": {},
     "output_type": "execute_result"
    }
   ],
   "source": [
    "shoes_df"
   ]
  },
  {
   "cell_type": "markdown",
   "metadata": {},
   "source": [
    "# Q10 : Go to webpage https://www.amazon.in/Enter “Laptop” in the search field and then click the search icon.Then set CPU Type filter to “Intel Core i7” and “Intel Core i9” After setting the filters scrape first 10 laptops data. You have to scrape 3 attributes for each laptop:\n",
    "1. title\n",
    "2. Ratings\n",
    "3. Price"
   ]
  },
  {
   "cell_type": "code",
   "execution_count": 5,
   "metadata": {},
   "outputs": [],
   "source": [
    "driver.get('https://www.amazon.in/')"
   ]
  },
  {
   "cell_type": "code",
   "execution_count": 6,
   "metadata": {},
   "outputs": [],
   "source": [
    "search_bar = driver.find_element_by_id(\"twotabsearchtextbox\")\n",
    "search_bar.send_keys('Laptop')"
   ]
  },
  {
   "cell_type": "code",
   "execution_count": 7,
   "metadata": {},
   "outputs": [],
   "source": [
    "search_button = driver.find_element_by_id(\"nav-search-submit-button\")\n",
    "search_button.click()"
   ]
  },
  {
   "cell_type": "code",
   "execution_count": 8,
   "metadata": {},
   "outputs": [],
   "source": [
    "filter_button = driver.find_elements_by_xpath('//a[@class=\"a-link-normal s-navigation-item\"]/span')\n",
    "for i in filter_button:\n",
    "    if(i.text=='Intel Core i7'):\n",
    "        i.click()   #setting the filter\n",
    "        break\n",
    "    \n",
    "        "
   ]
  },
  {
   "cell_type": "code",
   "execution_count": 35,
   "metadata": {},
   "outputs": [],
   "source": [
    "driver.get('https://www.amazon.in/s?k=laptop&rh=n%3A1375424031%2Cp_n_feature_thirteen_browse-bin%3A12598163031&dc&qid=1621269669&rnid=12598141031&ref=sr_nr_p_n_feature_thirteen_browse-bin_8')"
   ]
  },
  {
   "cell_type": "code",
   "execution_count": 36,
   "metadata": {},
   "outputs": [],
   "source": [
    "title_2 = []\n",
    "for i in driver.find_elements_by_xpath('//span[@class=\"a-size-medium a-color-base a-text-normal\"]')[:10]:\n",
    "    title_2.append(i.text.replace('/n',''))\n",
    "prices_of_lap = []\n",
    "for i in driver.find_elements_by_xpath('//span[@class=\"a-price-whole\"]')[:10]:\n",
    "    prices_of_lap.append(i.text.replace('/n',''))"
   ]
  },
  {
   "cell_type": "code",
   "execution_count": 74,
   "metadata": {},
   "outputs": [],
   "source": [
    "temp_1 = prices_of_lap[:3] #one laptop has no price so spilted the list for inserting nan valuse\n",
    "temp_1.insert(3,'?')\n",
    "temp_2 = prices_of_lap[3:]\n",
    "temp_1.extend(temp_2)\n",
    "print(temp_1)"
   ]
  },
  {
   "cell_type": "code",
   "execution_count": 88,
   "metadata": {},
   "outputs": [],
   "source": [
    "laptop_df = pd.DataFrame({})"
   ]
  },
  {
   "cell_type": "code",
   "execution_count": 89,
   "metadata": {},
   "outputs": [],
   "source": [
    "laptop_df['title']  = title_2\n",
    "laptop_df['price'] = temp_1"
   ]
  },
  {
   "cell_type": "code",
   "execution_count": 96,
   "metadata": {},
   "outputs": [],
   "source": [
    "urls = []\n",
    "rating_lap = []\n",
    "for i in driver.find_elements_by_xpath('//a[@class=\"a-link-normal a-text-normal\"]')[:10]:\n",
    "    urls.append(i.get_attribute('href'))\n",
    "for i in url:\n",
    "    driver.get(i)\n",
    "    try:\n",
    "        descs = driver.find_element_by_xpath('//span[@class=\"a-size-medium a-color-base a-text-beside-button a-text-bold\"]')\n",
    "        rating_lap.append(descs.text.replace('/n',''))\n",
    "    except NoSuchElementException:\n",
    "        rating_lap.append('?')\n",
    "    "
   ]
  },
  {
   "cell_type": "code",
   "execution_count": 127,
   "metadata": {},
   "outputs": [],
   "source": [
    "laptop_df['ratings'] = temp_ratings"
   ]
  },
  {
   "cell_type": "code",
   "execution_count": 128,
   "metadata": {},
   "outputs": [
    {
     "data": {
      "text/html": [
       "<div>\n",
       "<style scoped>\n",
       "    .dataframe tbody tr th:only-of-type {\n",
       "        vertical-align: middle;\n",
       "    }\n",
       "\n",
       "    .dataframe tbody tr th {\n",
       "        vertical-align: top;\n",
       "    }\n",
       "\n",
       "    .dataframe thead th {\n",
       "        text-align: right;\n",
       "    }\n",
       "</style>\n",
       "<table border=\"1\" class=\"dataframe\">\n",
       "  <thead>\n",
       "    <tr style=\"text-align: right;\">\n",
       "      <th></th>\n",
       "      <th>title</th>\n",
       "      <th>price</th>\n",
       "      <th>ratings</th>\n",
       "    </tr>\n",
       "  </thead>\n",
       "  <tbody>\n",
       "    <tr>\n",
       "      <th>0</th>\n",
       "      <td>MSI GE75 Raider 10SFS 17.3\" FHD Gaming Laptop ...</td>\n",
       "      <td>1,84,990</td>\n",
       "      <td>5</td>\n",
       "    </tr>\n",
       "    <tr>\n",
       "      <th>1</th>\n",
       "      <td>(Renewed) Dell Intel 6th Gen Core i7-6820HQ 15...</td>\n",
       "      <td>61,799</td>\n",
       "      <td>?</td>\n",
       "    </tr>\n",
       "    <tr>\n",
       "      <th>2</th>\n",
       "      <td>(Renewed) Dell Latitude E6420 14 Inch Laptop (...</td>\n",
       "      <td>34,000</td>\n",
       "      <td>?</td>\n",
       "    </tr>\n",
       "    <tr>\n",
       "      <th>3</th>\n",
       "      <td>HP 14 Thin &amp; Light 14\" (35.56cms) FHD Laptop (...</td>\n",
       "      <td>?</td>\n",
       "      <td>4.5</td>\n",
       "    </tr>\n",
       "    <tr>\n",
       "      <th>4</th>\n",
       "      <td>Lenovo 2019 Yoga C930 2-in-1 13.9\" 4K UHD Touc...</td>\n",
       "      <td>2,16,327</td>\n",
       "      <td>4</td>\n",
       "    </tr>\n",
       "    <tr>\n",
       "      <th>5</th>\n",
       "      <td>(Renewed) Lenovo Intel 4th Gen Core i7-4980HQ ...</td>\n",
       "      <td>46,290</td>\n",
       "      <td>3</td>\n",
       "    </tr>\n",
       "    <tr>\n",
       "      <th>6</th>\n",
       "      <td>(Renewed) Lenovo T430 14-inch Laptop (Core i7/...</td>\n",
       "      <td>53,499</td>\n",
       "      <td>?</td>\n",
       "    </tr>\n",
       "    <tr>\n",
       "      <th>7</th>\n",
       "      <td>Dell Latitude 5400 14” FHD Laptop – Intel Core...</td>\n",
       "      <td>1,16,000</td>\n",
       "      <td>?</td>\n",
       "    </tr>\n",
       "    <tr>\n",
       "      <th>8</th>\n",
       "      <td>Lenovo Ideapad 720s Intel Core i7 8th Gen 13.3...</td>\n",
       "      <td>89,990</td>\n",
       "      <td>3</td>\n",
       "    </tr>\n",
       "    <tr>\n",
       "      <th>9</th>\n",
       "      <td>(Renewed) HP Intel Core i7 6700HQ 15.6-Inch (3...</td>\n",
       "      <td>?</td>\n",
       "      <td>?</td>\n",
       "    </tr>\n",
       "  </tbody>\n",
       "</table>\n",
       "</div>"
      ],
      "text/plain": [
       "                                               title     price ratings\n",
       "0  MSI GE75 Raider 10SFS 17.3\" FHD Gaming Laptop ...  1,84,990       5\n",
       "1  (Renewed) Dell Intel 6th Gen Core i7-6820HQ 15...    61,799       ?\n",
       "2  (Renewed) Dell Latitude E6420 14 Inch Laptop (...    34,000       ?\n",
       "3  HP 14 Thin & Light 14\" (35.56cms) FHD Laptop (...         ?     4.5\n",
       "4  Lenovo 2019 Yoga C930 2-in-1 13.9\" 4K UHD Touc...  2,16,327       4\n",
       "5  (Renewed) Lenovo Intel 4th Gen Core i7-4980HQ ...    46,290       3\n",
       "6  (Renewed) Lenovo T430 14-inch Laptop (Core i7/...    53,499       ?\n",
       "7  Dell Latitude 5400 14” FHD Laptop – Intel Core...  1,16,000       ?\n",
       "8  Lenovo Ideapad 720s Intel Core i7 8th Gen 13.3...    89,990       3\n",
       "9  (Renewed) HP Intel Core i7 6700HQ 15.6-Inch (3...         ?       ?"
      ]
     },
     "execution_count": 128,
     "metadata": {},
     "output_type": "execute_result"
    }
   ],
   "source": [
    "laptop_df #i7 processor dataframe"
   ]
  },
  {
   "cell_type": "code",
   "execution_count": 4,
   "metadata": {},
   "outputs": [],
   "source": [
    "driver.get('https://www.amazon.in/s?k=laptop&rh=n%3A1375424031%2Cp_n_feature_thirteen_browse-bin%3A16757432031&dc&qid=1621349412&rnid=12598141031&ref=sr_nr_p_n_feature_thirteen_browse-bin_13')"
   ]
  },
  {
   "cell_type": "code",
   "execution_count": 5,
   "metadata": {},
   "outputs": [],
   "source": [
    "filter_button = driver.find_elements_by_xpath('//a[@class=\"a-link-normal s-navigation-item\"]/span')\n",
    "for i in filter_button:\n",
    "    if(i.text=='Intel Core i9'):  #filtering for i9 processor\n",
    "        i.click()\n",
    "        break"
   ]
  },
  {
   "cell_type": "code",
   "execution_count": 6,
   "metadata": {},
   "outputs": [],
   "source": [
    "title = []\n",
    "for i in driver.find_elements_by_xpath('//span[@class=\"a-size-medium a-color-base a-text-normal\"]')[:10]:\n",
    "    title.append(i.text.replace('/n',''))\n",
    "prices_of_lap = []\n",
    "for i in driver.find_elements_by_xpath('//span[@class=\"a-price-whole\"]'):\n",
    "    prices_of_lap.append(i.text.replace('/n',''))\n",
    "urls = []\n",
    "rating_lap = []\n",
    "for i in driver.find_elements_by_xpath('//a[@class=\"a-link-normal a-text-normal\"]')[:10]:\n",
    "    urls.append(i.get_attribute('href'))\n",
    "for i in url:\n",
    "    driver.get(i)\n",
    "    try:\n",
    "        descs = driver.find_element_by_xpath('//span[@class=\"a-size-medium a-color-base a-text-beside-button a-text-bold\"]')\n",
    "        rating_lap.append(descs.text.replace('/n',''))\n",
    "    except NoSuchElementException:\n",
    "        rating_lap.append('?')\n",
    "        #fetching rating because I got ratings fro href page "
   ]
  },
  {
   "cell_type": "code",
   "execution_count": 10,
   "metadata": {},
   "outputs": [],
   "source": []
  },
  {
   "cell_type": "code",
   "execution_count": 16,
   "metadata": {},
   "outputs": [],
   "source": [
    "temp1 = prices_of_lap[:5]\n",
    "temp2 = prices_of_lap[5:]\n",
    "temp1.insert(5,'?')  # ? for laptop have no price \n",
    "temp1.extend(temp2)\n",
    "print(temp1)"
   ]
  },
  {
   "cell_type": "code",
   "execution_count": 24,
   "metadata": {},
   "outputs": [
    {
     "data": {
      "text/html": [
       "<div>\n",
       "<style scoped>\n",
       "    .dataframe tbody tr th:only-of-type {\n",
       "        vertical-align: middle;\n",
       "    }\n",
       "\n",
       "    .dataframe tbody tr th {\n",
       "        vertical-align: top;\n",
       "    }\n",
       "\n",
       "    .dataframe thead th {\n",
       "        text-align: right;\n",
       "    }\n",
       "</style>\n",
       "<table border=\"1\" class=\"dataframe\">\n",
       "  <thead>\n",
       "    <tr style=\"text-align: right;\">\n",
       "      <th></th>\n",
       "      <th>title</th>\n",
       "      <th>prices</th>\n",
       "      <th>ratings</th>\n",
       "    </tr>\n",
       "  </thead>\n",
       "  <tbody>\n",
       "    <tr>\n",
       "      <th>0</th>\n",
       "      <td>ASUS ROG G703GI-E5148T 17.3\" (43.94 cms) FHD 1...</td>\n",
       "      <td>4,13,890</td>\n",
       "      <td>3.7</td>\n",
       "    </tr>\n",
       "    <tr>\n",
       "      <th>1</th>\n",
       "      <td>ASUS ZenBook Pro Duo Intel Core i9-10980HK 10t...</td>\n",
       "      <td>2,79,990</td>\n",
       "      <td>3.8</td>\n",
       "    </tr>\n",
       "    <tr>\n",
       "      <th>2</th>\n",
       "      <td>Lenovo Legion 7 10th Gen Intel Core i9 15.6 in...</td>\n",
       "      <td>2,62,990</td>\n",
       "      <td>3.7</td>\n",
       "    </tr>\n",
       "    <tr>\n",
       "      <th>3</th>\n",
       "      <td>Dell XPS 9570 15.6\" (39.62cms) UHD Laptop (8th...</td>\n",
       "      <td>2,49,990</td>\n",
       "      <td>2.4</td>\n",
       "    </tr>\n",
       "    <tr>\n",
       "      <th>4</th>\n",
       "      <td>HP Omen X 2S Core i9 9th Gen 15.6-inch Dual Sc...</td>\n",
       "      <td>3,45,900</td>\n",
       "      <td>4.5</td>\n",
       "    </tr>\n",
       "    <tr>\n",
       "      <th>5</th>\n",
       "      <td>(Renewed) Dell XPS 9570 Laptop|i9-8950HK|32GB ...</td>\n",
       "      <td>?</td>\n",
       "      <td>?</td>\n",
       "    </tr>\n",
       "    <tr>\n",
       "      <th>6</th>\n",
       "      <td>Dell G7 7500 15.6inch FHD 300 Hz Display Gamin...</td>\n",
       "      <td>2,00,690</td>\n",
       "      <td>3.4</td>\n",
       "    </tr>\n",
       "    <tr>\n",
       "      <th>7</th>\n",
       "      <td>Dell Alienware m15(R3) 15.6\" (39.62cms) UHD Ga...</td>\n",
       "      <td>3,19,990</td>\n",
       "      <td>3.1</td>\n",
       "    </tr>\n",
       "    <tr>\n",
       "      <th>8</th>\n",
       "      <td>(Renewed) ASUS UX581LV-H2035T ZenBook Pro Duo ...</td>\n",
       "      <td>2,07,992</td>\n",
       "      <td>?</td>\n",
       "    </tr>\n",
       "    <tr>\n",
       "      <th>9</th>\n",
       "      <td>ASUS ROG Strix Scar 17 (2020), 17.3\" FHD 300Hz...</td>\n",
       "      <td>2,78,978</td>\n",
       "      <td>4.8</td>\n",
       "    </tr>\n",
       "  </tbody>\n",
       "</table>\n",
       "</div>"
      ],
      "text/plain": [
       "                                               title    prices ratings\n",
       "0  ASUS ROG G703GI-E5148T 17.3\" (43.94 cms) FHD 1...  4,13,890     3.7\n",
       "1  ASUS ZenBook Pro Duo Intel Core i9-10980HK 10t...  2,79,990     3.8\n",
       "2  Lenovo Legion 7 10th Gen Intel Core i9 15.6 in...  2,62,990     3.7\n",
       "3  Dell XPS 9570 15.6\" (39.62cms) UHD Laptop (8th...  2,49,990     2.4\n",
       "4  HP Omen X 2S Core i9 9th Gen 15.6-inch Dual Sc...  3,45,900     4.5\n",
       "5  (Renewed) Dell XPS 9570 Laptop|i9-8950HK|32GB ...         ?       ?\n",
       "6  Dell G7 7500 15.6inch FHD 300 Hz Display Gamin...  2,00,690     3.4\n",
       "7  Dell Alienware m15(R3) 15.6\" (39.62cms) UHD Ga...  3,19,990     3.1\n",
       "8  (Renewed) ASUS UX581LV-H2035T ZenBook Pro Duo ...  2,07,992       ?\n",
       "9  ASUS ROG Strix Scar 17 (2020), 17.3\" FHD 300Hz...  2,78,978     4.8"
      ]
     },
     "execution_count": 24,
     "metadata": {},
     "output_type": "execute_result"
    }
   ],
   "source": [
    "lap = pd.DataFrame({})\n",
    "lap['title'] = title\n",
    "lap['prices'] = temp1\n",
    "lap['ratings'] = r  #dataframe for i9 processor\n",
    "lap"
   ]
  }
 ],
 "metadata": {
  "kernelspec": {
   "display_name": "Python 3",
   "language": "python",
   "name": "python3"
  },
  "language_info": {
   "codemirror_mode": {
    "name": "ipython",
    "version": 3
   },
   "file_extension": ".py",
   "mimetype": "text/x-python",
   "name": "python",
   "nbconvert_exporter": "python",
   "pygments_lexer": "ipython3",
   "version": "3.8.5"
  }
 },
 "nbformat": 4,
 "nbformat_minor": 4
}
